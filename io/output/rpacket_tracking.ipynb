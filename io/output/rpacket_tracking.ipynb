{
 "cells": [
  {
   "cell_type": "markdown",
   "id": "f57cd4fe",
   "metadata": {},
   "source": [
    "# Tracking the Properties of Real Packets"
   ]
  },
  {
   "cell_type": "markdown",
   "id": "c103617c",
   "metadata": {},
   "source": [
    "**TARDIS** has the functionality to track the properties of the *RPackets* that are generated when running the Simulation. The `rpacket_tracker` can track all the interactions a packet undergoes & thus keeps a track of the various properties, a packet may have.<br>Currently, the `rpacket_tracker` tracks the properties of all the rpackets in the *Last Iteration of the Simulation*. It generates a `List` that contains the individual instances of `RPacketCollection`{`Numba JITClass`}, for storing all the interaction properties as listed below."
   ]
  },
  {
   "cell_type": "markdown",
   "id": "ce6214b9",
   "metadata": {},
   "source": [
    "<html>\n",
    "    <body>\n",
    "        The properties that are tracked are as follows :\n",
    "        <ol>\n",
    "            <li><b>index</b> - Index of the Packet</li>\n",
    "            <li><b>seed</b> - Seed of the Packet</li>\n",
    "            <li><b>status</b> - Current Status for the Packet Interaction</li>\n",
    "            <li><b>r</b> - Radius of the Current Shell</li> \n",
    "            <li><b>nu</b> - Packet's Frequency</li> \n",
    "            <li><b>mu</b> - Propagation Direction of the Packet (cosine of the angle the packet’s path makes with the radial direction)</li>\n",
    "            <li><b>energy</b> - Energy of the Packet</li>\n",
    "            <li><b>shell_id</b> - Current Shell Id where the Packet is present</li>\n",
    "        </ol>\n",
    "    </body>\n",
    "</html>"
   ]
  },
  {
   "cell_type": "markdown",
   "id": "4b0de6ca",
   "metadata": {},
   "source": [
    "<div class=\"alert alert-warning\">\n",
    "\n",
    "Warning\n",
    "\n",
    "Current implementation stores all the data for the interaction of the packets in a `list`, so it needs to accessed with a `list index` for each property for a particular `rpacket`. Examples for the same are shown as follows. \n",
    "</div>"
   ]
  },
  {
   "cell_type": "markdown",
   "id": "1686d9f1",
   "metadata": {},
   "source": [
    "## How to Setup the Tracking for the RPackets?"
   ]
  },
  {
   "cell_type": "markdown",
   "id": "29e14475",
   "metadata": {},
   "source": [
    "**TARDIS**' `rpacket_tracker` is configured via the `YAML` file. This functionality of tracking the packets is turned **off**, by default. This is due to that fact that using this property, may slow down the execution time for the Simulation. An example configuration can be seen below for setting up the *tracking*:\n",
    "\n",
    "```yaml\n",
    "... \n",
    "montecarlo:\n",
    "...\n",
    "tracking:\n",
    "    track_rpacket: true\n",
    "```"
   ]
  },
  {
   "cell_type": "markdown",
   "id": "13b6420b",
   "metadata": {},
   "source": [
    "The `montecarlo` section of the **YAML** file now has a `tracking` sub section which holds the configuration properties for the `track_rpacket` & the `initial_array_length` (discussed later in the tutorial)."
   ]
  },
  {
   "cell_type": "markdown",
   "id": "2634c571",
   "metadata": {},
   "source": [
    "Let us see, the new `rpacket_tracker` in action."
   ]
  },
  {
   "cell_type": "code",
   "execution_count": 1,
   "id": "a0e975b6",
   "metadata": {
    "execution": {
     "iopub.execute_input": "2022-02-04T16:12:21.345995Z",
     "iopub.status.busy": "2022-02-04T16:12:21.345586Z",
     "iopub.status.idle": "2022-02-04T16:12:22.000255Z",
     "shell.execute_reply": "2022-02-04T16:12:21.999651Z"
    }
   },
   "outputs": [
    {
     "name": "stderr",
     "output_type": "stream",
     "text": [
      "/usr/share/miniconda3/envs/tardis/lib/python3.7/importlib/_bootstrap.py:219: QAWarning: pyne.data is not yet QA compliant.\n",
      "  return f(*args, **kwds)\n"
     ]
    },
    {
     "data": {
      "application/vnd.jupyter.widget-view+json": {
       "model_id": "dcd1794c24ea446cacf934c7c2beea4f",
       "version_major": 2,
       "version_minor": 0
      },
      "text/plain": [
       "Iterations:          0/? [00:00<?, ?it/s]"
      ]
     },
     "metadata": {},
     "output_type": "display_data"
    },
    {
     "data": {
      "application/vnd.jupyter.widget-view+json": {
       "model_id": "d2cf4a2790224628857286bc3a028705",
       "version_major": 2,
       "version_minor": 0
      },
      "text/plain": [
       "Packets:             0/? [00:00<?, ?it/s]"
      ]
     },
     "metadata": {},
     "output_type": "display_data"
    }
   ],
   "source": [
    "from tardis.io.config_reader import Configuration"
   ]
  },
  {
   "cell_type": "code",
   "execution_count": 2,
   "id": "adbf5f75",
   "metadata": {
    "execution": {
     "iopub.execute_input": "2022-02-04T16:12:22.003772Z",
     "iopub.status.busy": "2022-02-04T16:12:22.003258Z",
     "iopub.status.idle": "2022-02-04T16:12:22.094105Z",
     "shell.execute_reply": "2022-02-04T16:12:22.093603Z"
    }
   },
   "outputs": [],
   "source": [
    "# Reading the Configuration stored in `tardis_config_packet_tracking.yml` into config\n",
    "\n",
    "config = Configuration.from_yaml(\"tardis_example.yml\")"
   ]
  },
  {
   "cell_type": "code",
   "execution_count": 3,
   "id": "975766e9",
   "metadata": {
    "execution": {
     "iopub.execute_input": "2022-02-04T16:12:22.102969Z",
     "iopub.status.busy": "2022-02-04T16:12:22.102260Z",
     "iopub.status.idle": "2022-02-04T16:12:22.104725Z",
     "shell.execute_reply": "2022-02-04T16:12:22.105089Z"
    }
   },
   "outputs": [
    {
     "data": {
      "text/plain": [
       "{'track_rpacket': False, 'initial_array_length': 10}"
      ]
     },
     "execution_count": 3,
     "metadata": {},
     "output_type": "execute_result"
    }
   ],
   "source": [
    "# Checking the `tracking` section via the Schema\n",
    "\n",
    "config[\"montecarlo\"][\"tracking\"]"
   ]
  },
  {
   "cell_type": "code",
   "execution_count": 4,
   "id": "b00bc2ca",
   "metadata": {
    "execution": {
     "iopub.execute_input": "2022-02-04T16:12:22.108597Z",
     "iopub.status.busy": "2022-02-04T16:12:22.108125Z",
     "iopub.status.idle": "2022-02-04T16:12:22.110181Z",
     "shell.execute_reply": "2022-02-04T16:12:22.109801Z"
    }
   },
   "outputs": [],
   "source": [
    "# Setting `r_packet_tracking` to True to turn on the Tracking \n",
    "\n",
    "config[\"montecarlo\"][\"tracking\"][\"track_rpacket\"] = True"
   ]
  },
  {
   "cell_type": "code",
   "execution_count": 5,
   "id": "3ece2c10",
   "metadata": {
    "execution": {
     "iopub.execute_input": "2022-02-04T16:12:22.113835Z",
     "iopub.status.busy": "2022-02-04T16:12:22.113397Z",
     "iopub.status.idle": "2022-02-04T16:12:22.116751Z",
     "shell.execute_reply": "2022-02-04T16:12:22.116428Z"
    }
   },
   "outputs": [
    {
     "data": {
      "text/plain": [
       "{'track_rpacket': True, 'initial_array_length': 10}"
      ]
     },
     "execution_count": 5,
     "metadata": {},
     "output_type": "execute_result"
    }
   ],
   "source": [
    "config[\"montecarlo\"][\"tracking\"]"
   ]
  },
  {
   "cell_type": "code",
   "execution_count": 6,
   "id": "b25271d6",
   "metadata": {
    "execution": {
     "iopub.execute_input": "2022-02-04T16:12:22.120113Z",
     "iopub.status.busy": "2022-02-04T16:12:22.119422Z",
     "iopub.status.idle": "2022-02-04T16:12:22.121175Z",
     "shell.execute_reply": "2022-02-04T16:12:22.120855Z"
    }
   },
   "outputs": [],
   "source": [
    "from tardis import run_tardis"
   ]
  },
  {
   "cell_type": "code",
   "execution_count": 7,
   "id": "f9e51fd3",
   "metadata": {
    "execution": {
     "iopub.execute_input": "2022-02-04T16:12:22.124596Z",
     "iopub.status.busy": "2022-02-04T16:12:22.124199Z",
     "iopub.status.idle": "2022-02-04T16:13:13.615624Z",
     "shell.execute_reply": "2022-02-04T16:13:13.615232Z"
    },
    "scrolled": false
   },
   "outputs": [
    {
     "name": "stdout",
     "output_type": "stream",
     "text": [
      "[\u001b[1mpy.warnings         \u001b[0m][\u001b[1;33mWARNING\u001b[0m]  /usr/share/miniconda3/envs/tardis/lib/python3.7/site-packages/traitlets/traitlets.py:3050: FutureWarning: --rc={'figure.dpi': 96} for dict-traits is deprecated in traitlets 5.0. You can pass --rc <key=value> ... multiple times to add items to a dict.\n",
      "  FutureWarning,\n",
      " (\u001b[1mwarnings.py\u001b[0m:110)\n"
     ]
    },
    {
     "name": "stdout",
     "output_type": "stream",
     "text": [
      "[\u001b[1mtardis.plasma.standard_plasmas\u001b[0m][\u001b[1;37mINFO\u001b[0m   ]  Reading Atomic Data from kurucz_cd23_chianti_H_He.h5 (\u001b[1mstandard_plasmas.py\u001b[0m:92)\n"
     ]
    },
    {
     "name": "stdout",
     "output_type": "stream",
     "text": [
      "[\u001b[1mtardis.io.atom_data.util\u001b[0m][\u001b[1;37mINFO\u001b[0m   ]  Atom Data kurucz_cd23_chianti_H_He.h5 not found in local path.\n",
      "\tExists in TARDIS Data repo /home/runner/Downloads/tardis-data/kurucz_cd23_chianti_H_He.h5 (\u001b[1mutil.py\u001b[0m:34)\n"
     ]
    },
    {
     "name": "stdout",
     "output_type": "stream",
     "text": [
      "[\u001b[1mtardis.io.atom_data.base\u001b[0m][\u001b[1;37mINFO\u001b[0m   ]  Reading Atom Data with: UUID = 6f7b09e887a311e7a06b246e96350010 MD5  = 864f1753714343c41f99cb065710cace  (\u001b[1mbase.py\u001b[0m:204)\n"
     ]
    },
    {
     "name": "stdout",
     "output_type": "stream",
     "text": [
      "[\u001b[1mtardis.io.atom_data.base\u001b[0m][\u001b[1;37mINFO\u001b[0m   ]  Non provided Atomic Data: synpp_refs, photoionization_data, yg_data, two_photon_data (\u001b[1mbase.py\u001b[0m:209)\n"
     ]
    },
    {
     "name": "stdout",
     "output_type": "stream",
     "text": [
      "[\u001b[1mpy.warnings         \u001b[0m][\u001b[1;33mWARNING\u001b[0m]  /usr/share/miniconda3/envs/tardis/lib/python3.7/site-packages/tardis-22.2.2.0.dev886+gc7059467-py3.7.egg/tardis/plasma/properties/radiative_properties.py:92: RuntimeWarning: invalid value encountered in true_divide\n",
      "  (g_lower * n_upper) / (g_upper * n_lower)\n",
      " (\u001b[1mwarnings.py\u001b[0m:110)\n"
     ]
    },
    {
     "name": "stdout",
     "output_type": "stream",
     "text": [
      "[\u001b[1mpy.warnings         \u001b[0m][\u001b[1;33mWARNING\u001b[0m]  /usr/share/miniconda3/envs/tardis/lib/python3.7/site-packages/tardis-22.2.2.0.dev886+gc7059467-py3.7.egg/tardis/plasma/properties/radiative_properties.py:92: RuntimeWarning: invalid value encountered in true_divide\n",
      "  (g_lower * n_upper) / (g_upper * n_lower)\n",
      " (\u001b[1mwarnings.py\u001b[0m:110)\n"
     ]
    },
    {
     "name": "stdout",
     "output_type": "stream",
     "text": [
      "[\u001b[1mtardis.simulation.base\u001b[0m][\u001b[1;37mINFO\u001b[0m   ]  Starting iteration 1 of 20 (\u001b[1mbase.py\u001b[0m:368)\n"
     ]
    },
    {
     "name": "stdout",
     "output_type": "stream",
     "text": [
      "[\u001b[1mtardis.simulation.base\u001b[0m][\u001b[1;37mINFO\u001b[0m   ]  Luminosity emitted   = 7.942e+42 erg / s\n",
      "\tLuminosity absorbed  = 2.659e+42 erg / s\n",
      "\tLuminosity requested = 1.059e+43 erg / s\n",
      " (\u001b[1mbase.py\u001b[0m:537)\n"
     ]
    },
    {
     "name": "stdout",
     "output_type": "stream",
     "text": [
      "[\u001b[1mtardis.simulation.base\u001b[0m][\u001b[1;37mINFO\u001b[0m   ]  Plasma stratification: (\u001b[1mbase.py\u001b[0m:504)\n"
     ]
    },
    {
     "data": {
      "text/html": [
       "<style  type=\"text/css\" >\n",
       "</style><table id=\"T_4b10bc3a_85d5_11ec_bd26_000d3ae62007\" ><thead>    <tr>        <th class=\"index_name level0\" >Shell No.</th>        <th class=\"col_heading level0 col0\" >t_rad</th>        <th class=\"col_heading level0 col1\" >next_t_rad</th>        <th class=\"col_heading level0 col2\" >w</th>        <th class=\"col_heading level0 col3\" >next_w</th>    </tr></thead><tbody>\n",
       "                <tr>\n",
       "                        <th id=\"T_4b10bc3a_85d5_11ec_bd26_000d3ae62007level0_row0\" class=\"row_heading level0 row0\" >0</th>\n",
       "                        <td id=\"T_4b10bc3a_85d5_11ec_bd26_000d3ae62007row0_col0\" class=\"data row0 col0\" >9.93e+03</td>\n",
       "                        <td id=\"T_4b10bc3a_85d5_11ec_bd26_000d3ae62007row0_col1\" class=\"data row0 col1\" >1.01e+04</td>\n",
       "                        <td id=\"T_4b10bc3a_85d5_11ec_bd26_000d3ae62007row0_col2\" class=\"data row0 col2\" >0.4</td>\n",
       "                        <td id=\"T_4b10bc3a_85d5_11ec_bd26_000d3ae62007row0_col3\" class=\"data row0 col3\" >0.507</td>\n",
       "            </tr>\n",
       "            <tr>\n",
       "                        <th id=\"T_4b10bc3a_85d5_11ec_bd26_000d3ae62007level0_row1\" class=\"row_heading level0 row1\" >5</th>\n",
       "                        <td id=\"T_4b10bc3a_85d5_11ec_bd26_000d3ae62007row1_col0\" class=\"data row1 col0\" >9.85e+03</td>\n",
       "                        <td id=\"T_4b10bc3a_85d5_11ec_bd26_000d3ae62007row1_col1\" class=\"data row1 col1\" >1.02e+04</td>\n",
       "                        <td id=\"T_4b10bc3a_85d5_11ec_bd26_000d3ae62007row1_col2\" class=\"data row1 col2\" >0.211</td>\n",
       "                        <td id=\"T_4b10bc3a_85d5_11ec_bd26_000d3ae62007row1_col3\" class=\"data row1 col3\" >0.197</td>\n",
       "            </tr>\n",
       "            <tr>\n",
       "                        <th id=\"T_4b10bc3a_85d5_11ec_bd26_000d3ae62007level0_row2\" class=\"row_heading level0 row2\" >10</th>\n",
       "                        <td id=\"T_4b10bc3a_85d5_11ec_bd26_000d3ae62007row2_col0\" class=\"data row2 col0\" >9.78e+03</td>\n",
       "                        <td id=\"T_4b10bc3a_85d5_11ec_bd26_000d3ae62007row2_col1\" class=\"data row2 col1\" >1.01e+04</td>\n",
       "                        <td id=\"T_4b10bc3a_85d5_11ec_bd26_000d3ae62007row2_col2\" class=\"data row2 col2\" >0.143</td>\n",
       "                        <td id=\"T_4b10bc3a_85d5_11ec_bd26_000d3ae62007row2_col3\" class=\"data row2 col3\" >0.117</td>\n",
       "            </tr>\n",
       "            <tr>\n",
       "                        <th id=\"T_4b10bc3a_85d5_11ec_bd26_000d3ae62007level0_row3\" class=\"row_heading level0 row3\" >15</th>\n",
       "                        <td id=\"T_4b10bc3a_85d5_11ec_bd26_000d3ae62007row3_col0\" class=\"data row3 col0\" >9.71e+03</td>\n",
       "                        <td id=\"T_4b10bc3a_85d5_11ec_bd26_000d3ae62007row3_col1\" class=\"data row3 col1\" >9.87e+03</td>\n",
       "                        <td id=\"T_4b10bc3a_85d5_11ec_bd26_000d3ae62007row3_col2\" class=\"data row3 col2\" >0.105</td>\n",
       "                        <td id=\"T_4b10bc3a_85d5_11ec_bd26_000d3ae62007row3_col3\" class=\"data row3 col3\" >0.0869</td>\n",
       "            </tr>\n",
       "    </tbody></table>"
      ],
      "text/plain": [
       "<pandas.io.formats.style.Styler at 0x7fad268c4d90>"
      ]
     },
     "metadata": {},
     "output_type": "display_data"
    },
    {
     "name": "stdout",
     "output_type": "stream",
     "text": [
      "[\u001b[1mtardis.simulation.base\u001b[0m][\u001b[1;37mINFO\u001b[0m   ]  Current t_inner = 9933.952 K\n",
      "\tExpected t_inner for next iteration = 10703.212 K\n",
      " (\u001b[1mbase.py\u001b[0m:532)\n"
     ]
    },
    {
     "name": "stdout",
     "output_type": "stream",
     "text": [
      "[\u001b[1mpy.warnings         \u001b[0m][\u001b[1;33mWARNING\u001b[0m]  /usr/share/miniconda3/envs/tardis/lib/python3.7/site-packages/tardis-22.2.2.0.dev886+gc7059467-py3.7.egg/tardis/plasma/properties/radiative_properties.py:92: RuntimeWarning: invalid value encountered in true_divide\n",
      "  (g_lower * n_upper) / (g_upper * n_lower)\n",
      " (\u001b[1mwarnings.py\u001b[0m:110)\n"
     ]
    },
    {
     "name": "stdout",
     "output_type": "stream",
     "text": [
      "[\u001b[1mtardis.simulation.base\u001b[0m][\u001b[1;37mINFO\u001b[0m   ]  Starting iteration 2 of 20 (\u001b[1mbase.py\u001b[0m:368)\n"
     ]
    },
    {
     "name": "stdout",
     "output_type": "stream",
     "text": [
      "[\u001b[1mtardis.simulation.base\u001b[0m][\u001b[1;37mINFO\u001b[0m   ]  Luminosity emitted   = 1.071e+43 erg / s\n",
      "\tLuminosity absorbed  = 3.576e+42 erg / s\n",
      "\tLuminosity requested = 1.059e+43 erg / s\n",
      " (\u001b[1mbase.py\u001b[0m:537)\n"
     ]
    },
    {
     "name": "stdout",
     "output_type": "stream",
     "text": [
      "[\u001b[1mtardis.simulation.base\u001b[0m][\u001b[1;37mINFO\u001b[0m   ]  Plasma stratification: (\u001b[1mbase.py\u001b[0m:504)\n"
     ]
    },
    {
     "data": {
      "text/html": [
       "<style  type=\"text/css\" >\n",
       "</style><table id=\"T_4b989dda_85d5_11ec_bd26_000d3ae62007\" ><thead>    <tr>        <th class=\"index_name level0\" >Shell No.</th>        <th class=\"col_heading level0 col0\" >t_rad</th>        <th class=\"col_heading level0 col1\" >next_t_rad</th>        <th class=\"col_heading level0 col2\" >w</th>        <th class=\"col_heading level0 col3\" >next_w</th>    </tr></thead><tbody>\n",
       "                <tr>\n",
       "                        <th id=\"T_4b989dda_85d5_11ec_bd26_000d3ae62007level0_row0\" class=\"row_heading level0 row0\" >0</th>\n",
       "                        <td id=\"T_4b989dda_85d5_11ec_bd26_000d3ae62007row0_col0\" class=\"data row0 col0\" >1.01e+04</td>\n",
       "                        <td id=\"T_4b989dda_85d5_11ec_bd26_000d3ae62007row0_col1\" class=\"data row0 col1\" >1.08e+04</td>\n",
       "                        <td id=\"T_4b989dda_85d5_11ec_bd26_000d3ae62007row0_col2\" class=\"data row0 col2\" >0.507</td>\n",
       "                        <td id=\"T_4b989dda_85d5_11ec_bd26_000d3ae62007row0_col3\" class=\"data row0 col3\" >0.525</td>\n",
       "            </tr>\n",
       "            <tr>\n",
       "                        <th id=\"T_4b989dda_85d5_11ec_bd26_000d3ae62007level0_row1\" class=\"row_heading level0 row1\" >5</th>\n",
       "                        <td id=\"T_4b989dda_85d5_11ec_bd26_000d3ae62007row1_col0\" class=\"data row1 col0\" >1.02e+04</td>\n",
       "                        <td id=\"T_4b989dda_85d5_11ec_bd26_000d3ae62007row1_col1\" class=\"data row1 col1\" >1.1e+04</td>\n",
       "                        <td id=\"T_4b989dda_85d5_11ec_bd26_000d3ae62007row1_col2\" class=\"data row1 col2\" >0.197</td>\n",
       "                        <td id=\"T_4b989dda_85d5_11ec_bd26_000d3ae62007row1_col3\" class=\"data row1 col3\" >0.203</td>\n",
       "            </tr>\n",
       "            <tr>\n",
       "                        <th id=\"T_4b989dda_85d5_11ec_bd26_000d3ae62007level0_row2\" class=\"row_heading level0 row2\" >10</th>\n",
       "                        <td id=\"T_4b989dda_85d5_11ec_bd26_000d3ae62007row2_col0\" class=\"data row2 col0\" >1.01e+04</td>\n",
       "                        <td id=\"T_4b989dda_85d5_11ec_bd26_000d3ae62007row2_col1\" class=\"data row2 col1\" >1.08e+04</td>\n",
       "                        <td id=\"T_4b989dda_85d5_11ec_bd26_000d3ae62007row2_col2\" class=\"data row2 col2\" >0.117</td>\n",
       "                        <td id=\"T_4b989dda_85d5_11ec_bd26_000d3ae62007row2_col3\" class=\"data row2 col3\" >0.125</td>\n",
       "            </tr>\n",
       "            <tr>\n",
       "                        <th id=\"T_4b989dda_85d5_11ec_bd26_000d3ae62007level0_row3\" class=\"row_heading level0 row3\" >15</th>\n",
       "                        <td id=\"T_4b989dda_85d5_11ec_bd26_000d3ae62007row3_col0\" class=\"data row3 col0\" >9.87e+03</td>\n",
       "                        <td id=\"T_4b989dda_85d5_11ec_bd26_000d3ae62007row3_col1\" class=\"data row3 col1\" >1.05e+04</td>\n",
       "                        <td id=\"T_4b989dda_85d5_11ec_bd26_000d3ae62007row3_col2\" class=\"data row3 col2\" >0.0869</td>\n",
       "                        <td id=\"T_4b989dda_85d5_11ec_bd26_000d3ae62007row3_col3\" class=\"data row3 col3\" >0.0933</td>\n",
       "            </tr>\n",
       "    </tbody></table>"
      ],
      "text/plain": [
       "<pandas.io.formats.style.Styler at 0x7fad280c9350>"
      ]
     },
     "metadata": {},
     "output_type": "display_data"
    },
    {
     "name": "stdout",
     "output_type": "stream",
     "text": [
      "[\u001b[1mtardis.simulation.base\u001b[0m][\u001b[1;37mINFO\u001b[0m   ]  Current t_inner = 10703.212 K\n",
      "\tExpected t_inner for next iteration = 10673.712 K\n",
      " (\u001b[1mbase.py\u001b[0m:532)\n"
     ]
    },
    {
     "name": "stdout",
     "output_type": "stream",
     "text": [
      "[\u001b[1mtardis.simulation.base\u001b[0m][\u001b[1;37mINFO\u001b[0m   ]  Starting iteration 3 of 20 (\u001b[1mbase.py\u001b[0m:368)\n"
     ]
    },
    {
     "name": "stdout",
     "output_type": "stream",
     "text": [
      "[\u001b[1mtardis.simulation.base\u001b[0m][\u001b[1;37mINFO\u001b[0m   ]  Luminosity emitted   = 1.074e+43 erg / s\n",
      "\tLuminosity absorbed  = 3.391e+42 erg / s\n",
      "\tLuminosity requested = 1.059e+43 erg / s\n",
      " (\u001b[1mbase.py\u001b[0m:537)\n"
     ]
    },
    {
     "name": "stdout",
     "output_type": "stream",
     "text": [
      "[\u001b[1mtardis.simulation.base\u001b[0m][\u001b[1;37mINFO\u001b[0m   ]  Plasma stratification: (\u001b[1mbase.py\u001b[0m:504)\n"
     ]
    },
    {
     "data": {
      "text/html": [
       "<style  type=\"text/css\" >\n",
       "</style><table id=\"T_4c12fc7e_85d5_11ec_bd26_000d3ae62007\" ><thead>    <tr>        <th class=\"index_name level0\" >Shell No.</th>        <th class=\"col_heading level0 col0\" >t_rad</th>        <th class=\"col_heading level0 col1\" >next_t_rad</th>        <th class=\"col_heading level0 col2\" >w</th>        <th class=\"col_heading level0 col3\" >next_w</th>    </tr></thead><tbody>\n",
       "                <tr>\n",
       "                        <th id=\"T_4c12fc7e_85d5_11ec_bd26_000d3ae62007level0_row0\" class=\"row_heading level0 row0\" >0</th>\n",
       "                        <td id=\"T_4c12fc7e_85d5_11ec_bd26_000d3ae62007row0_col0\" class=\"data row0 col0\" >1.08e+04</td>\n",
       "                        <td id=\"T_4c12fc7e_85d5_11ec_bd26_000d3ae62007row0_col1\" class=\"data row0 col1\" >1.1e+04</td>\n",
       "                        <td id=\"T_4c12fc7e_85d5_11ec_bd26_000d3ae62007row0_col2\" class=\"data row0 col2\" >0.525</td>\n",
       "                        <td id=\"T_4c12fc7e_85d5_11ec_bd26_000d3ae62007row0_col3\" class=\"data row0 col3\" >0.483</td>\n",
       "            </tr>\n",
       "            <tr>\n",
       "                        <th id=\"T_4c12fc7e_85d5_11ec_bd26_000d3ae62007level0_row1\" class=\"row_heading level0 row1\" >5</th>\n",
       "                        <td id=\"T_4c12fc7e_85d5_11ec_bd26_000d3ae62007row1_col0\" class=\"data row1 col0\" >1.1e+04</td>\n",
       "                        <td id=\"T_4c12fc7e_85d5_11ec_bd26_000d3ae62007row1_col1\" class=\"data row1 col1\" >1.12e+04</td>\n",
       "                        <td id=\"T_4c12fc7e_85d5_11ec_bd26_000d3ae62007row1_col2\" class=\"data row1 col2\" >0.203</td>\n",
       "                        <td id=\"T_4c12fc7e_85d5_11ec_bd26_000d3ae62007row1_col3\" class=\"data row1 col3\" >0.189</td>\n",
       "            </tr>\n",
       "            <tr>\n",
       "                        <th id=\"T_4c12fc7e_85d5_11ec_bd26_000d3ae62007level0_row2\" class=\"row_heading level0 row2\" >10</th>\n",
       "                        <td id=\"T_4c12fc7e_85d5_11ec_bd26_000d3ae62007row2_col0\" class=\"data row2 col0\" >1.08e+04</td>\n",
       "                        <td id=\"T_4c12fc7e_85d5_11ec_bd26_000d3ae62007row2_col1\" class=\"data row2 col1\" >1.1e+04</td>\n",
       "                        <td id=\"T_4c12fc7e_85d5_11ec_bd26_000d3ae62007row2_col2\" class=\"data row2 col2\" >0.125</td>\n",
       "                        <td id=\"T_4c12fc7e_85d5_11ec_bd26_000d3ae62007row2_col3\" class=\"data row2 col3\" >0.118</td>\n",
       "            </tr>\n",
       "            <tr>\n",
       "                        <th id=\"T_4c12fc7e_85d5_11ec_bd26_000d3ae62007level0_row3\" class=\"row_heading level0 row3\" >15</th>\n",
       "                        <td id=\"T_4c12fc7e_85d5_11ec_bd26_000d3ae62007row3_col0\" class=\"data row3 col0\" >1.05e+04</td>\n",
       "                        <td id=\"T_4c12fc7e_85d5_11ec_bd26_000d3ae62007row3_col1\" class=\"data row3 col1\" >1.06e+04</td>\n",
       "                        <td id=\"T_4c12fc7e_85d5_11ec_bd26_000d3ae62007row3_col2\" class=\"data row3 col2\" >0.0933</td>\n",
       "                        <td id=\"T_4c12fc7e_85d5_11ec_bd26_000d3ae62007row3_col3\" class=\"data row3 col3\" >0.0895</td>\n",
       "            </tr>\n",
       "    </tbody></table>"
      ],
      "text/plain": [
       "<pandas.io.formats.style.Styler at 0x7fad261339d0>"
      ]
     },
     "metadata": {},
     "output_type": "display_data"
    },
    {
     "name": "stdout",
     "output_type": "stream",
     "text": [
      "[\u001b[1mtardis.simulation.base\u001b[0m][\u001b[1;37mINFO\u001b[0m   ]  Current t_inner = 10673.712 K\n",
      "\tExpected t_inner for next iteration = 10635.953 K\n",
      " (\u001b[1mbase.py\u001b[0m:532)\n"
     ]
    },
    {
     "name": "stdout",
     "output_type": "stream",
     "text": [
      "[\u001b[1mtardis.simulation.base\u001b[0m][\u001b[1;37mINFO\u001b[0m   ]  Starting iteration 4 of 20 (\u001b[1mbase.py\u001b[0m:368)\n"
     ]
    },
    {
     "name": "stdout",
     "output_type": "stream",
     "text": [
      "[\u001b[1mtardis.simulation.base\u001b[0m][\u001b[1;37mINFO\u001b[0m   ]  Luminosity emitted   = 1.058e+43 erg / s\n",
      "\tLuminosity absorbed  = 3.352e+42 erg / s\n",
      "\tLuminosity requested = 1.059e+43 erg / s\n",
      " (\u001b[1mbase.py\u001b[0m:537)\n"
     ]
    },
    {
     "name": "stdout",
     "output_type": "stream",
     "text": [
      "[\u001b[1mtardis.simulation.base\u001b[0m][\u001b[1;37mINFO\u001b[0m   ]  Plasma stratification: (\u001b[1mbase.py\u001b[0m:504)\n"
     ]
    },
    {
     "data": {
      "text/html": [
       "<style  type=\"text/css\" >\n",
       "</style><table id=\"T_4c8e92f8_85d5_11ec_bd26_000d3ae62007\" ><thead>    <tr>        <th class=\"index_name level0\" >Shell No.</th>        <th class=\"col_heading level0 col0\" >t_rad</th>        <th class=\"col_heading level0 col1\" >next_t_rad</th>        <th class=\"col_heading level0 col2\" >w</th>        <th class=\"col_heading level0 col3\" >next_w</th>    </tr></thead><tbody>\n",
       "                <tr>\n",
       "                        <th id=\"T_4c8e92f8_85d5_11ec_bd26_000d3ae62007level0_row0\" class=\"row_heading level0 row0\" >0</th>\n",
       "                        <td id=\"T_4c8e92f8_85d5_11ec_bd26_000d3ae62007row0_col0\" class=\"data row0 col0\" >1.1e+04</td>\n",
       "                        <td id=\"T_4c8e92f8_85d5_11ec_bd26_000d3ae62007row0_col1\" class=\"data row0 col1\" >1.1e+04</td>\n",
       "                        <td id=\"T_4c8e92f8_85d5_11ec_bd26_000d3ae62007row0_col2\" class=\"data row0 col2\" >0.483</td>\n",
       "                        <td id=\"T_4c8e92f8_85d5_11ec_bd26_000d3ae62007row0_col3\" class=\"data row0 col3\" >0.469</td>\n",
       "            </tr>\n",
       "            <tr>\n",
       "                        <th id=\"T_4c8e92f8_85d5_11ec_bd26_000d3ae62007level0_row1\" class=\"row_heading level0 row1\" >5</th>\n",
       "                        <td id=\"T_4c8e92f8_85d5_11ec_bd26_000d3ae62007row1_col0\" class=\"data row1 col0\" >1.12e+04</td>\n",
       "                        <td id=\"T_4c8e92f8_85d5_11ec_bd26_000d3ae62007row1_col1\" class=\"data row1 col1\" >1.12e+04</td>\n",
       "                        <td id=\"T_4c8e92f8_85d5_11ec_bd26_000d3ae62007row1_col2\" class=\"data row1 col2\" >0.189</td>\n",
       "                        <td id=\"T_4c8e92f8_85d5_11ec_bd26_000d3ae62007row1_col3\" class=\"data row1 col3\" >0.182</td>\n",
       "            </tr>\n",
       "            <tr>\n",
       "                        <th id=\"T_4c8e92f8_85d5_11ec_bd26_000d3ae62007level0_row2\" class=\"row_heading level0 row2\" >10</th>\n",
       "                        <td id=\"T_4c8e92f8_85d5_11ec_bd26_000d3ae62007row2_col0\" class=\"data row2 col0\" >1.1e+04</td>\n",
       "                        <td id=\"T_4c8e92f8_85d5_11ec_bd26_000d3ae62007row2_col1\" class=\"data row2 col1\" >1.1e+04</td>\n",
       "                        <td id=\"T_4c8e92f8_85d5_11ec_bd26_000d3ae62007row2_col2\" class=\"data row2 col2\" >0.118</td>\n",
       "                        <td id=\"T_4c8e92f8_85d5_11ec_bd26_000d3ae62007row2_col3\" class=\"data row2 col3\" >0.113</td>\n",
       "            </tr>\n",
       "            <tr>\n",
       "                        <th id=\"T_4c8e92f8_85d5_11ec_bd26_000d3ae62007level0_row3\" class=\"row_heading level0 row3\" >15</th>\n",
       "                        <td id=\"T_4c8e92f8_85d5_11ec_bd26_000d3ae62007row3_col0\" class=\"data row3 col0\" >1.06e+04</td>\n",
       "                        <td id=\"T_4c8e92f8_85d5_11ec_bd26_000d3ae62007row3_col1\" class=\"data row3 col1\" >1.07e+04</td>\n",
       "                        <td id=\"T_4c8e92f8_85d5_11ec_bd26_000d3ae62007row3_col2\" class=\"data row3 col2\" >0.0895</td>\n",
       "                        <td id=\"T_4c8e92f8_85d5_11ec_bd26_000d3ae62007row3_col3\" class=\"data row3 col3\" >0.0861</td>\n",
       "            </tr>\n",
       "    </tbody></table>"
      ],
      "text/plain": [
       "<pandas.io.formats.style.Styler at 0x7fad26135b10>"
      ]
     },
     "metadata": {},
     "output_type": "display_data"
    },
    {
     "name": "stdout",
     "output_type": "stream",
     "text": [
      "[\u001b[1mtardis.simulation.base\u001b[0m][\u001b[1;37mINFO\u001b[0m   ]  Current t_inner = 10635.953 K\n",
      "\tExpected t_inner for next iteration = 10638.407 K\n",
      " (\u001b[1mbase.py\u001b[0m:532)\n"
     ]
    },
    {
     "name": "stdout",
     "output_type": "stream",
     "text": [
      "[\u001b[1mtardis.simulation.base\u001b[0m][\u001b[1;37mINFO\u001b[0m   ]  Starting iteration 5 of 20 (\u001b[1mbase.py\u001b[0m:368)\n"
     ]
    },
    {
     "name": "stdout",
     "output_type": "stream",
     "text": [
      "[\u001b[1mtardis.simulation.base\u001b[0m][\u001b[1;37mINFO\u001b[0m   ]  Luminosity emitted   = 1.055e+43 erg / s\n",
      "\tLuminosity absorbed  = 3.399e+42 erg / s\n",
      "\tLuminosity requested = 1.059e+43 erg / s\n",
      " (\u001b[1mbase.py\u001b[0m:537)\n"
     ]
    },
    {
     "name": "stdout",
     "output_type": "stream",
     "text": [
      "[\u001b[1mtardis.simulation.base\u001b[0m][\u001b[1;37mINFO\u001b[0m   ]  Iteration converged 1/4 consecutive times. (\u001b[1mbase.py\u001b[0m:256)\n"
     ]
    },
    {
     "name": "stdout",
     "output_type": "stream",
     "text": [
      "[\u001b[1mtardis.simulation.base\u001b[0m][\u001b[1;37mINFO\u001b[0m   ]  Plasma stratification: (\u001b[1mbase.py\u001b[0m:504)\n"
     ]
    },
    {
     "data": {
      "text/html": [
       "<style  type=\"text/css\" >\n",
       "</style><table id=\"T_4d0a89c6_85d5_11ec_bd26_000d3ae62007\" ><thead>    <tr>        <th class=\"index_name level0\" >Shell No.</th>        <th class=\"col_heading level0 col0\" >t_rad</th>        <th class=\"col_heading level0 col1\" >next_t_rad</th>        <th class=\"col_heading level0 col2\" >w</th>        <th class=\"col_heading level0 col3\" >next_w</th>    </tr></thead><tbody>\n",
       "                <tr>\n",
       "                        <th id=\"T_4d0a89c6_85d5_11ec_bd26_000d3ae62007level0_row0\" class=\"row_heading level0 row0\" >0</th>\n",
       "                        <td id=\"T_4d0a89c6_85d5_11ec_bd26_000d3ae62007row0_col0\" class=\"data row0 col0\" >1.1e+04</td>\n",
       "                        <td id=\"T_4d0a89c6_85d5_11ec_bd26_000d3ae62007row0_col1\" class=\"data row0 col1\" >1.1e+04</td>\n",
       "                        <td id=\"T_4d0a89c6_85d5_11ec_bd26_000d3ae62007row0_col2\" class=\"data row0 col2\" >0.469</td>\n",
       "                        <td id=\"T_4d0a89c6_85d5_11ec_bd26_000d3ae62007row0_col3\" class=\"data row0 col3\" >0.479</td>\n",
       "            </tr>\n",
       "            <tr>\n",
       "                        <th id=\"T_4d0a89c6_85d5_11ec_bd26_000d3ae62007level0_row1\" class=\"row_heading level0 row1\" >5</th>\n",
       "                        <td id=\"T_4d0a89c6_85d5_11ec_bd26_000d3ae62007row1_col0\" class=\"data row1 col0\" >1.12e+04</td>\n",
       "                        <td id=\"T_4d0a89c6_85d5_11ec_bd26_000d3ae62007row1_col1\" class=\"data row1 col1\" >1.13e+04</td>\n",
       "                        <td id=\"T_4d0a89c6_85d5_11ec_bd26_000d3ae62007row1_col2\" class=\"data row1 col2\" >0.182</td>\n",
       "                        <td id=\"T_4d0a89c6_85d5_11ec_bd26_000d3ae62007row1_col3\" class=\"data row1 col3\" >0.178</td>\n",
       "            </tr>\n",
       "            <tr>\n",
       "                        <th id=\"T_4d0a89c6_85d5_11ec_bd26_000d3ae62007level0_row2\" class=\"row_heading level0 row2\" >10</th>\n",
       "                        <td id=\"T_4d0a89c6_85d5_11ec_bd26_000d3ae62007row2_col0\" class=\"data row2 col0\" >1.1e+04</td>\n",
       "                        <td id=\"T_4d0a89c6_85d5_11ec_bd26_000d3ae62007row2_col1\" class=\"data row2 col1\" >1.1e+04</td>\n",
       "                        <td id=\"T_4d0a89c6_85d5_11ec_bd26_000d3ae62007row2_col2\" class=\"data row2 col2\" >0.113</td>\n",
       "                        <td id=\"T_4d0a89c6_85d5_11ec_bd26_000d3ae62007row2_col3\" class=\"data row2 col3\" >0.113</td>\n",
       "            </tr>\n",
       "            <tr>\n",
       "                        <th id=\"T_4d0a89c6_85d5_11ec_bd26_000d3ae62007level0_row3\" class=\"row_heading level0 row3\" >15</th>\n",
       "                        <td id=\"T_4d0a89c6_85d5_11ec_bd26_000d3ae62007row3_col0\" class=\"data row3 col0\" >1.07e+04</td>\n",
       "                        <td id=\"T_4d0a89c6_85d5_11ec_bd26_000d3ae62007row3_col1\" class=\"data row3 col1\" >1.07e+04</td>\n",
       "                        <td id=\"T_4d0a89c6_85d5_11ec_bd26_000d3ae62007row3_col2\" class=\"data row3 col2\" >0.0861</td>\n",
       "                        <td id=\"T_4d0a89c6_85d5_11ec_bd26_000d3ae62007row3_col3\" class=\"data row3 col3\" >0.0839</td>\n",
       "            </tr>\n",
       "    </tbody></table>"
      ],
      "text/plain": [
       "<pandas.io.formats.style.Styler at 0x7fad2625ead0>"
      ]
     },
     "metadata": {},
     "output_type": "display_data"
    },
    {
     "name": "stdout",
     "output_type": "stream",
     "text": [
      "[\u001b[1mtardis.simulation.base\u001b[0m][\u001b[1;37mINFO\u001b[0m   ]  Current t_inner = 10638.407 K\n",
      "\tExpected t_inner for next iteration = 10650.202 K\n",
      " (\u001b[1mbase.py\u001b[0m:532)\n"
     ]
    },
    {
     "name": "stdout",
     "output_type": "stream",
     "text": [
      "[\u001b[1mtardis.simulation.base\u001b[0m][\u001b[1;37mINFO\u001b[0m   ]  Starting iteration 6 of 20 (\u001b[1mbase.py\u001b[0m:368)\n"
     ]
    },
    {
     "name": "stdout",
     "output_type": "stream",
     "text": [
      "[\u001b[1mtardis.simulation.base\u001b[0m][\u001b[1;37mINFO\u001b[0m   ]  Luminosity emitted   = 1.061e+43 erg / s\n",
      "\tLuminosity absorbed  = 3.398e+42 erg / s\n",
      "\tLuminosity requested = 1.059e+43 erg / s\n",
      " (\u001b[1mbase.py\u001b[0m:537)\n"
     ]
    },
    {
     "name": "stdout",
     "output_type": "stream",
     "text": [
      "[\u001b[1mtardis.simulation.base\u001b[0m][\u001b[1;37mINFO\u001b[0m   ]  Iteration converged 2/4 consecutive times. (\u001b[1mbase.py\u001b[0m:256)\n"
     ]
    },
    {
     "name": "stdout",
     "output_type": "stream",
     "text": [
      "[\u001b[1mtardis.simulation.base\u001b[0m][\u001b[1;37mINFO\u001b[0m   ]  Plasma stratification: (\u001b[1mbase.py\u001b[0m:504)\n"
     ]
    },
    {
     "data": {
      "text/html": [
       "<style  type=\"text/css\" >\n",
       "</style><table id=\"T_4d87218e_85d5_11ec_bd26_000d3ae62007\" ><thead>    <tr>        <th class=\"index_name level0\" >Shell No.</th>        <th class=\"col_heading level0 col0\" >t_rad</th>        <th class=\"col_heading level0 col1\" >next_t_rad</th>        <th class=\"col_heading level0 col2\" >w</th>        <th class=\"col_heading level0 col3\" >next_w</th>    </tr></thead><tbody>\n",
       "                <tr>\n",
       "                        <th id=\"T_4d87218e_85d5_11ec_bd26_000d3ae62007level0_row0\" class=\"row_heading level0 row0\" >0</th>\n",
       "                        <td id=\"T_4d87218e_85d5_11ec_bd26_000d3ae62007row0_col0\" class=\"data row0 col0\" >1.1e+04</td>\n",
       "                        <td id=\"T_4d87218e_85d5_11ec_bd26_000d3ae62007row0_col1\" class=\"data row0 col1\" >1.1e+04</td>\n",
       "                        <td id=\"T_4d87218e_85d5_11ec_bd26_000d3ae62007row0_col2\" class=\"data row0 col2\" >0.479</td>\n",
       "                        <td id=\"T_4d87218e_85d5_11ec_bd26_000d3ae62007row0_col3\" class=\"data row0 col3\" >0.47</td>\n",
       "            </tr>\n",
       "            <tr>\n",
       "                        <th id=\"T_4d87218e_85d5_11ec_bd26_000d3ae62007level0_row1\" class=\"row_heading level0 row1\" >5</th>\n",
       "                        <td id=\"T_4d87218e_85d5_11ec_bd26_000d3ae62007row1_col0\" class=\"data row1 col0\" >1.13e+04</td>\n",
       "                        <td id=\"T_4d87218e_85d5_11ec_bd26_000d3ae62007row1_col1\" class=\"data row1 col1\" >1.12e+04</td>\n",
       "                        <td id=\"T_4d87218e_85d5_11ec_bd26_000d3ae62007row1_col2\" class=\"data row1 col2\" >0.178</td>\n",
       "                        <td id=\"T_4d87218e_85d5_11ec_bd26_000d3ae62007row1_col3\" class=\"data row1 col3\" >0.185</td>\n",
       "            </tr>\n",
       "            <tr>\n",
       "                        <th id=\"T_4d87218e_85d5_11ec_bd26_000d3ae62007level0_row2\" class=\"row_heading level0 row2\" >10</th>\n",
       "                        <td id=\"T_4d87218e_85d5_11ec_bd26_000d3ae62007row2_col0\" class=\"data row2 col0\" >1.1e+04</td>\n",
       "                        <td id=\"T_4d87218e_85d5_11ec_bd26_000d3ae62007row2_col1\" class=\"data row2 col1\" >1.11e+04</td>\n",
       "                        <td id=\"T_4d87218e_85d5_11ec_bd26_000d3ae62007row2_col2\" class=\"data row2 col2\" >0.113</td>\n",
       "                        <td id=\"T_4d87218e_85d5_11ec_bd26_000d3ae62007row2_col3\" class=\"data row2 col3\" >0.112</td>\n",
       "            </tr>\n",
       "            <tr>\n",
       "                        <th id=\"T_4d87218e_85d5_11ec_bd26_000d3ae62007level0_row3\" class=\"row_heading level0 row3\" >15</th>\n",
       "                        <td id=\"T_4d87218e_85d5_11ec_bd26_000d3ae62007row3_col0\" class=\"data row3 col0\" >1.07e+04</td>\n",
       "                        <td id=\"T_4d87218e_85d5_11ec_bd26_000d3ae62007row3_col1\" class=\"data row3 col1\" >1.07e+04</td>\n",
       "                        <td id=\"T_4d87218e_85d5_11ec_bd26_000d3ae62007row3_col2\" class=\"data row3 col2\" >0.0839</td>\n",
       "                        <td id=\"T_4d87218e_85d5_11ec_bd26_000d3ae62007row3_col3\" class=\"data row3 col3\" >0.0856</td>\n",
       "            </tr>\n",
       "    </tbody></table>"
      ],
      "text/plain": [
       "<pandas.io.formats.style.Styler at 0x7fad2613bad0>"
      ]
     },
     "metadata": {},
     "output_type": "display_data"
    },
    {
     "name": "stdout",
     "output_type": "stream",
     "text": [
      "[\u001b[1mtardis.simulation.base\u001b[0m][\u001b[1;37mINFO\u001b[0m   ]  Current t_inner = 10650.202 K\n",
      "\tExpected t_inner for next iteration = 10645.955 K\n",
      " (\u001b[1mbase.py\u001b[0m:532)\n"
     ]
    },
    {
     "name": "stdout",
     "output_type": "stream",
     "text": [
      "[\u001b[1mtardis.simulation.base\u001b[0m][\u001b[1;37mINFO\u001b[0m   ]  Starting iteration 7 of 20 (\u001b[1mbase.py\u001b[0m:368)\n"
     ]
    },
    {
     "name": "stdout",
     "output_type": "stream",
     "text": [
      "[\u001b[1mtardis.simulation.base\u001b[0m][\u001b[1;37mINFO\u001b[0m   ]  Luminosity emitted   = 1.061e+43 erg / s\n",
      "\tLuminosity absorbed  = 3.382e+42 erg / s\n",
      "\tLuminosity requested = 1.059e+43 erg / s\n",
      " (\u001b[1mbase.py\u001b[0m:537)\n"
     ]
    },
    {
     "name": "stdout",
     "output_type": "stream",
     "text": [
      "[\u001b[1mtardis.simulation.base\u001b[0m][\u001b[1;37mINFO\u001b[0m   ]  Iteration converged 3/4 consecutive times. (\u001b[1mbase.py\u001b[0m:256)\n"
     ]
    },
    {
     "name": "stdout",
     "output_type": "stream",
     "text": [
      "[\u001b[1mtardis.simulation.base\u001b[0m][\u001b[1;37mINFO\u001b[0m   ]  Plasma stratification: (\u001b[1mbase.py\u001b[0m:504)\n"
     ]
    },
    {
     "data": {
      "text/html": [
       "<style  type=\"text/css\" >\n",
       "</style><table id=\"T_4df9dad0_85d5_11ec_bd26_000d3ae62007\" ><thead>    <tr>        <th class=\"index_name level0\" >Shell No.</th>        <th class=\"col_heading level0 col0\" >t_rad</th>        <th class=\"col_heading level0 col1\" >next_t_rad</th>        <th class=\"col_heading level0 col2\" >w</th>        <th class=\"col_heading level0 col3\" >next_w</th>    </tr></thead><tbody>\n",
       "                <tr>\n",
       "                        <th id=\"T_4df9dad0_85d5_11ec_bd26_000d3ae62007level0_row0\" class=\"row_heading level0 row0\" >0</th>\n",
       "                        <td id=\"T_4df9dad0_85d5_11ec_bd26_000d3ae62007row0_col0\" class=\"data row0 col0\" >1.1e+04</td>\n",
       "                        <td id=\"T_4df9dad0_85d5_11ec_bd26_000d3ae62007row0_col1\" class=\"data row0 col1\" >1.1e+04</td>\n",
       "                        <td id=\"T_4df9dad0_85d5_11ec_bd26_000d3ae62007row0_col2\" class=\"data row0 col2\" >0.47</td>\n",
       "                        <td id=\"T_4df9dad0_85d5_11ec_bd26_000d3ae62007row0_col3\" class=\"data row0 col3\" >0.47</td>\n",
       "            </tr>\n",
       "            <tr>\n",
       "                        <th id=\"T_4df9dad0_85d5_11ec_bd26_000d3ae62007level0_row1\" class=\"row_heading level0 row1\" >5</th>\n",
       "                        <td id=\"T_4df9dad0_85d5_11ec_bd26_000d3ae62007row1_col0\" class=\"data row1 col0\" >1.12e+04</td>\n",
       "                        <td id=\"T_4df9dad0_85d5_11ec_bd26_000d3ae62007row1_col1\" class=\"data row1 col1\" >1.13e+04</td>\n",
       "                        <td id=\"T_4df9dad0_85d5_11ec_bd26_000d3ae62007row1_col2\" class=\"data row1 col2\" >0.185</td>\n",
       "                        <td id=\"T_4df9dad0_85d5_11ec_bd26_000d3ae62007row1_col3\" class=\"data row1 col3\" >0.178</td>\n",
       "            </tr>\n",
       "            <tr>\n",
       "                        <th id=\"T_4df9dad0_85d5_11ec_bd26_000d3ae62007level0_row2\" class=\"row_heading level0 row2\" >10</th>\n",
       "                        <td id=\"T_4df9dad0_85d5_11ec_bd26_000d3ae62007row2_col0\" class=\"data row2 col0\" >1.11e+04</td>\n",
       "                        <td id=\"T_4df9dad0_85d5_11ec_bd26_000d3ae62007row2_col1\" class=\"data row2 col1\" >1.11e+04</td>\n",
       "                        <td id=\"T_4df9dad0_85d5_11ec_bd26_000d3ae62007row2_col2\" class=\"data row2 col2\" >0.112</td>\n",
       "                        <td id=\"T_4df9dad0_85d5_11ec_bd26_000d3ae62007row2_col3\" class=\"data row2 col3\" >0.112</td>\n",
       "            </tr>\n",
       "            <tr>\n",
       "                        <th id=\"T_4df9dad0_85d5_11ec_bd26_000d3ae62007level0_row3\" class=\"row_heading level0 row3\" >15</th>\n",
       "                        <td id=\"T_4df9dad0_85d5_11ec_bd26_000d3ae62007row3_col0\" class=\"data row3 col0\" >1.07e+04</td>\n",
       "                        <td id=\"T_4df9dad0_85d5_11ec_bd26_000d3ae62007row3_col1\" class=\"data row3 col1\" >1.07e+04</td>\n",
       "                        <td id=\"T_4df9dad0_85d5_11ec_bd26_000d3ae62007row3_col2\" class=\"data row3 col2\" >0.0856</td>\n",
       "                        <td id=\"T_4df9dad0_85d5_11ec_bd26_000d3ae62007row3_col3\" class=\"data row3 col3\" >0.086</td>\n",
       "            </tr>\n",
       "    </tbody></table>"
      ],
      "text/plain": [
       "<pandas.io.formats.style.Styler at 0x7fad2870e350>"
      ]
     },
     "metadata": {},
     "output_type": "display_data"
    },
    {
     "name": "stdout",
     "output_type": "stream",
     "text": [
      "[\u001b[1mtardis.simulation.base\u001b[0m][\u001b[1;37mINFO\u001b[0m   ]  Current t_inner = 10645.955 K\n",
      "\tExpected t_inner for next iteration = 10642.050 K\n",
      " (\u001b[1mbase.py\u001b[0m:532)\n"
     ]
    },
    {
     "name": "stdout",
     "output_type": "stream",
     "text": [
      "[\u001b[1mtardis.simulation.base\u001b[0m][\u001b[1;37mINFO\u001b[0m   ]  Starting iteration 8 of 20 (\u001b[1mbase.py\u001b[0m:368)\n"
     ]
    },
    {
     "name": "stdout",
     "output_type": "stream",
     "text": [
      "[\u001b[1mtardis.simulation.base\u001b[0m][\u001b[1;37mINFO\u001b[0m   ]  Luminosity emitted   = 1.062e+43 erg / s\n",
      "\tLuminosity absorbed  = 3.350e+42 erg / s\n",
      "\tLuminosity requested = 1.059e+43 erg / s\n",
      " (\u001b[1mbase.py\u001b[0m:537)\n"
     ]
    },
    {
     "name": "stdout",
     "output_type": "stream",
     "text": [
      "[\u001b[1mtardis.simulation.base\u001b[0m][\u001b[1;37mINFO\u001b[0m   ]  Iteration converged 4/4 consecutive times. (\u001b[1mbase.py\u001b[0m:256)\n"
     ]
    },
    {
     "name": "stdout",
     "output_type": "stream",
     "text": [
      "[\u001b[1mtardis.simulation.base\u001b[0m][\u001b[1;37mINFO\u001b[0m   ]  Plasma stratification: (\u001b[1mbase.py\u001b[0m:504)\n"
     ]
    },
    {
     "data": {
      "text/html": [
       "<style  type=\"text/css\" >\n",
       "</style><table id=\"T_4e7624d2_85d5_11ec_bd26_000d3ae62007\" ><thead>    <tr>        <th class=\"index_name level0\" >Shell No.</th>        <th class=\"col_heading level0 col0\" >t_rad</th>        <th class=\"col_heading level0 col1\" >next_t_rad</th>        <th class=\"col_heading level0 col2\" >w</th>        <th class=\"col_heading level0 col3\" >next_w</th>    </tr></thead><tbody>\n",
       "                <tr>\n",
       "                        <th id=\"T_4e7624d2_85d5_11ec_bd26_000d3ae62007level0_row0\" class=\"row_heading level0 row0\" >0</th>\n",
       "                        <td id=\"T_4e7624d2_85d5_11ec_bd26_000d3ae62007row0_col0\" class=\"data row0 col0\" >1.1e+04</td>\n",
       "                        <td id=\"T_4e7624d2_85d5_11ec_bd26_000d3ae62007row0_col1\" class=\"data row0 col1\" >1.11e+04</td>\n",
       "                        <td id=\"T_4e7624d2_85d5_11ec_bd26_000d3ae62007row0_col2\" class=\"data row0 col2\" >0.47</td>\n",
       "                        <td id=\"T_4e7624d2_85d5_11ec_bd26_000d3ae62007row0_col3\" class=\"data row0 col3\" >0.472</td>\n",
       "            </tr>\n",
       "            <tr>\n",
       "                        <th id=\"T_4e7624d2_85d5_11ec_bd26_000d3ae62007level0_row1\" class=\"row_heading level0 row1\" >5</th>\n",
       "                        <td id=\"T_4e7624d2_85d5_11ec_bd26_000d3ae62007row1_col0\" class=\"data row1 col0\" >1.13e+04</td>\n",
       "                        <td id=\"T_4e7624d2_85d5_11ec_bd26_000d3ae62007row1_col1\" class=\"data row1 col1\" >1.14e+04</td>\n",
       "                        <td id=\"T_4e7624d2_85d5_11ec_bd26_000d3ae62007row1_col2\" class=\"data row1 col2\" >0.178</td>\n",
       "                        <td id=\"T_4e7624d2_85d5_11ec_bd26_000d3ae62007row1_col3\" class=\"data row1 col3\" >0.175</td>\n",
       "            </tr>\n",
       "            <tr>\n",
       "                        <th id=\"T_4e7624d2_85d5_11ec_bd26_000d3ae62007level0_row2\" class=\"row_heading level0 row2\" >10</th>\n",
       "                        <td id=\"T_4e7624d2_85d5_11ec_bd26_000d3ae62007row2_col0\" class=\"data row2 col0\" >1.11e+04</td>\n",
       "                        <td id=\"T_4e7624d2_85d5_11ec_bd26_000d3ae62007row2_col1\" class=\"data row2 col1\" >1.11e+04</td>\n",
       "                        <td id=\"T_4e7624d2_85d5_11ec_bd26_000d3ae62007row2_col2\" class=\"data row2 col2\" >0.112</td>\n",
       "                        <td id=\"T_4e7624d2_85d5_11ec_bd26_000d3ae62007row2_col3\" class=\"data row2 col3\" >0.111</td>\n",
       "            </tr>\n",
       "            <tr>\n",
       "                        <th id=\"T_4e7624d2_85d5_11ec_bd26_000d3ae62007level0_row3\" class=\"row_heading level0 row3\" >15</th>\n",
       "                        <td id=\"T_4e7624d2_85d5_11ec_bd26_000d3ae62007row3_col0\" class=\"data row3 col0\" >1.07e+04</td>\n",
       "                        <td id=\"T_4e7624d2_85d5_11ec_bd26_000d3ae62007row3_col1\" class=\"data row3 col1\" >1.07e+04</td>\n",
       "                        <td id=\"T_4e7624d2_85d5_11ec_bd26_000d3ae62007row3_col2\" class=\"data row3 col2\" >0.086</td>\n",
       "                        <td id=\"T_4e7624d2_85d5_11ec_bd26_000d3ae62007row3_col3\" class=\"data row3 col3\" >0.084</td>\n",
       "            </tr>\n",
       "    </tbody></table>"
      ],
      "text/plain": [
       "<pandas.io.formats.style.Styler at 0x7fad28974ad0>"
      ]
     },
     "metadata": {},
     "output_type": "display_data"
    },
    {
     "name": "stdout",
     "output_type": "stream",
     "text": [
      "[\u001b[1mtardis.simulation.base\u001b[0m][\u001b[1;37mINFO\u001b[0m   ]  Current t_inner = 10642.050 K\n",
      "\tExpected t_inner for next iteration = 10636.106 K\n",
      " (\u001b[1mbase.py\u001b[0m:532)\n"
     ]
    },
    {
     "name": "stdout",
     "output_type": "stream",
     "text": [
      "[\u001b[1mtardis.simulation.base\u001b[0m][\u001b[1;37mINFO\u001b[0m   ]  Starting iteration 9 of 20 (\u001b[1mbase.py\u001b[0m:368)\n"
     ]
    },
    {
     "name": "stdout",
     "output_type": "stream",
     "text": [
      "[\u001b[1mtardis.simulation.base\u001b[0m][\u001b[1;37mINFO\u001b[0m   ]  Luminosity emitted   = 1.052e+43 erg / s\n",
      "\tLuminosity absorbed  = 3.411e+42 erg / s\n",
      "\tLuminosity requested = 1.059e+43 erg / s\n",
      " (\u001b[1mbase.py\u001b[0m:537)\n"
     ]
    },
    {
     "name": "stdout",
     "output_type": "stream",
     "text": [
      "[\u001b[1mtardis.simulation.base\u001b[0m][\u001b[1;37mINFO\u001b[0m   ]  Iteration converged 5/4 consecutive times. (\u001b[1mbase.py\u001b[0m:256)\n"
     ]
    },
    {
     "name": "stdout",
     "output_type": "stream",
     "text": [
      "[\u001b[1mtardis.simulation.base\u001b[0m][\u001b[1;37mINFO\u001b[0m   ]  Plasma stratification: (\u001b[1mbase.py\u001b[0m:504)\n"
     ]
    },
    {
     "data": {
      "text/html": [
       "<style  type=\"text/css\" >\n",
       "</style><table id=\"T_4ef34e8a_85d5_11ec_bd26_000d3ae62007\" ><thead>    <tr>        <th class=\"index_name level0\" >Shell No.</th>        <th class=\"col_heading level0 col0\" >t_rad</th>        <th class=\"col_heading level0 col1\" >next_t_rad</th>        <th class=\"col_heading level0 col2\" >w</th>        <th class=\"col_heading level0 col3\" >next_w</th>    </tr></thead><tbody>\n",
       "                <tr>\n",
       "                        <th id=\"T_4ef34e8a_85d5_11ec_bd26_000d3ae62007level0_row0\" class=\"row_heading level0 row0\" >0</th>\n",
       "                        <td id=\"T_4ef34e8a_85d5_11ec_bd26_000d3ae62007row0_col0\" class=\"data row0 col0\" >1.11e+04</td>\n",
       "                        <td id=\"T_4ef34e8a_85d5_11ec_bd26_000d3ae62007row0_col1\" class=\"data row0 col1\" >1.11e+04</td>\n",
       "                        <td id=\"T_4ef34e8a_85d5_11ec_bd26_000d3ae62007row0_col2\" class=\"data row0 col2\" >0.472</td>\n",
       "                        <td id=\"T_4ef34e8a_85d5_11ec_bd26_000d3ae62007row0_col3\" class=\"data row0 col3\" >0.469</td>\n",
       "            </tr>\n",
       "            <tr>\n",
       "                        <th id=\"T_4ef34e8a_85d5_11ec_bd26_000d3ae62007level0_row1\" class=\"row_heading level0 row1\" >5</th>\n",
       "                        <td id=\"T_4ef34e8a_85d5_11ec_bd26_000d3ae62007row1_col0\" class=\"data row1 col0\" >1.14e+04</td>\n",
       "                        <td id=\"T_4ef34e8a_85d5_11ec_bd26_000d3ae62007row1_col1\" class=\"data row1 col1\" >1.15e+04</td>\n",
       "                        <td id=\"T_4ef34e8a_85d5_11ec_bd26_000d3ae62007row1_col2\" class=\"data row1 col2\" >0.175</td>\n",
       "                        <td id=\"T_4ef34e8a_85d5_11ec_bd26_000d3ae62007row1_col3\" class=\"data row1 col3\" >0.17</td>\n",
       "            </tr>\n",
       "            <tr>\n",
       "                        <th id=\"T_4ef34e8a_85d5_11ec_bd26_000d3ae62007level0_row2\" class=\"row_heading level0 row2\" >10</th>\n",
       "                        <td id=\"T_4ef34e8a_85d5_11ec_bd26_000d3ae62007row2_col0\" class=\"data row2 col0\" >1.11e+04</td>\n",
       "                        <td id=\"T_4ef34e8a_85d5_11ec_bd26_000d3ae62007row2_col1\" class=\"data row2 col1\" >1.11e+04</td>\n",
       "                        <td id=\"T_4ef34e8a_85d5_11ec_bd26_000d3ae62007row2_col2\" class=\"data row2 col2\" >0.111</td>\n",
       "                        <td id=\"T_4ef34e8a_85d5_11ec_bd26_000d3ae62007row2_col3\" class=\"data row2 col3\" >0.109</td>\n",
       "            </tr>\n",
       "            <tr>\n",
       "                        <th id=\"T_4ef34e8a_85d5_11ec_bd26_000d3ae62007level0_row3\" class=\"row_heading level0 row3\" >15</th>\n",
       "                        <td id=\"T_4ef34e8a_85d5_11ec_bd26_000d3ae62007row3_col0\" class=\"data row3 col0\" >1.07e+04</td>\n",
       "                        <td id=\"T_4ef34e8a_85d5_11ec_bd26_000d3ae62007row3_col1\" class=\"data row3 col1\" >1.08e+04</td>\n",
       "                        <td id=\"T_4ef34e8a_85d5_11ec_bd26_000d3ae62007row3_col2\" class=\"data row3 col2\" >0.084</td>\n",
       "                        <td id=\"T_4ef34e8a_85d5_11ec_bd26_000d3ae62007row3_col3\" class=\"data row3 col3\" >0.0822</td>\n",
       "            </tr>\n",
       "    </tbody></table>"
      ],
      "text/plain": [
       "<pandas.io.formats.style.Styler at 0x7fad2816d290>"
      ]
     },
     "metadata": {},
     "output_type": "display_data"
    },
    {
     "name": "stdout",
     "output_type": "stream",
     "text": [
      "[\u001b[1mtardis.simulation.base\u001b[0m][\u001b[1;37mINFO\u001b[0m   ]  Current t_inner = 10636.106 K\n",
      "\tExpected t_inner for next iteration = 10654.313 K\n",
      " (\u001b[1mbase.py\u001b[0m:532)\n"
     ]
    },
    {
     "name": "stdout",
     "output_type": "stream",
     "text": [
      "[\u001b[1mtardis.simulation.base\u001b[0m][\u001b[1;37mINFO\u001b[0m   ]  Starting iteration 10 of 20 (\u001b[1mbase.py\u001b[0m:368)\n"
     ]
    },
    {
     "name": "stdout",
     "output_type": "stream",
     "text": [
      "[\u001b[1mtardis.simulation.base\u001b[0m][\u001b[1;37mINFO\u001b[0m   ]  Luminosity emitted   = 1.070e+43 erg / s\n",
      "\tLuminosity absorbed  = 3.335e+42 erg / s\n",
      "\tLuminosity requested = 1.059e+43 erg / s\n",
      " (\u001b[1mbase.py\u001b[0m:537)\n"
     ]
    },
    {
     "name": "stdout",
     "output_type": "stream",
     "text": [
      "[\u001b[1mtardis.simulation.base\u001b[0m][\u001b[1;37mINFO\u001b[0m   ]  Plasma stratification: (\u001b[1mbase.py\u001b[0m:504)\n"
     ]
    },
    {
     "data": {
      "text/html": [
       "<style  type=\"text/css\" >\n",
       "</style><table id=\"T_4f675f82_85d5_11ec_bd26_000d3ae62007\" ><thead>    <tr>        <th class=\"index_name level0\" >Shell No.</th>        <th class=\"col_heading level0 col0\" >t_rad</th>        <th class=\"col_heading level0 col1\" >next_t_rad</th>        <th class=\"col_heading level0 col2\" >w</th>        <th class=\"col_heading level0 col3\" >next_w</th>    </tr></thead><tbody>\n",
       "                <tr>\n",
       "                        <th id=\"T_4f675f82_85d5_11ec_bd26_000d3ae62007level0_row0\" class=\"row_heading level0 row0\" >0</th>\n",
       "                        <td id=\"T_4f675f82_85d5_11ec_bd26_000d3ae62007row0_col0\" class=\"data row0 col0\" >1.11e+04</td>\n",
       "                        <td id=\"T_4f675f82_85d5_11ec_bd26_000d3ae62007row0_col1\" class=\"data row0 col1\" >1.1e+04</td>\n",
       "                        <td id=\"T_4f675f82_85d5_11ec_bd26_000d3ae62007row0_col2\" class=\"data row0 col2\" >0.469</td>\n",
       "                        <td id=\"T_4f675f82_85d5_11ec_bd26_000d3ae62007row0_col3\" class=\"data row0 col3\" >0.475</td>\n",
       "            </tr>\n",
       "            <tr>\n",
       "                        <th id=\"T_4f675f82_85d5_11ec_bd26_000d3ae62007level0_row1\" class=\"row_heading level0 row1\" >5</th>\n",
       "                        <td id=\"T_4f675f82_85d5_11ec_bd26_000d3ae62007row1_col0\" class=\"data row1 col0\" >1.15e+04</td>\n",
       "                        <td id=\"T_4f675f82_85d5_11ec_bd26_000d3ae62007row1_col1\" class=\"data row1 col1\" >1.14e+04</td>\n",
       "                        <td id=\"T_4f675f82_85d5_11ec_bd26_000d3ae62007row1_col2\" class=\"data row1 col2\" >0.17</td>\n",
       "                        <td id=\"T_4f675f82_85d5_11ec_bd26_000d3ae62007row1_col3\" class=\"data row1 col3\" >0.177</td>\n",
       "            </tr>\n",
       "            <tr>\n",
       "                        <th id=\"T_4f675f82_85d5_11ec_bd26_000d3ae62007level0_row2\" class=\"row_heading level0 row2\" >10</th>\n",
       "                        <td id=\"T_4f675f82_85d5_11ec_bd26_000d3ae62007row2_col0\" class=\"data row2 col0\" >1.11e+04</td>\n",
       "                        <td id=\"T_4f675f82_85d5_11ec_bd26_000d3ae62007row2_col1\" class=\"data row2 col1\" >1.11e+04</td>\n",
       "                        <td id=\"T_4f675f82_85d5_11ec_bd26_000d3ae62007row2_col2\" class=\"data row2 col2\" >0.109</td>\n",
       "                        <td id=\"T_4f675f82_85d5_11ec_bd26_000d3ae62007row2_col3\" class=\"data row2 col3\" >0.112</td>\n",
       "            </tr>\n",
       "            <tr>\n",
       "                        <th id=\"T_4f675f82_85d5_11ec_bd26_000d3ae62007level0_row3\" class=\"row_heading level0 row3\" >15</th>\n",
       "                        <td id=\"T_4f675f82_85d5_11ec_bd26_000d3ae62007row3_col0\" class=\"data row3 col0\" >1.08e+04</td>\n",
       "                        <td id=\"T_4f675f82_85d5_11ec_bd26_000d3ae62007row3_col1\" class=\"data row3 col1\" >1.06e+04</td>\n",
       "                        <td id=\"T_4f675f82_85d5_11ec_bd26_000d3ae62007row3_col2\" class=\"data row3 col2\" >0.0822</td>\n",
       "                        <td id=\"T_4f675f82_85d5_11ec_bd26_000d3ae62007row3_col3\" class=\"data row3 col3\" >0.0878</td>\n",
       "            </tr>\n",
       "    </tbody></table>"
      ],
      "text/plain": [
       "<pandas.io.formats.style.Styler at 0x7fad2625e150>"
      ]
     },
     "metadata": {},
     "output_type": "display_data"
    },
    {
     "name": "stdout",
     "output_type": "stream",
     "text": [
      "[\u001b[1mtardis.simulation.base\u001b[0m][\u001b[1;37mINFO\u001b[0m   ]  Current t_inner = 10654.313 K\n",
      "\tExpected t_inner for next iteration = 10628.190 K\n",
      " (\u001b[1mbase.py\u001b[0m:532)\n"
     ]
    },
    {
     "name": "stdout",
     "output_type": "stream",
     "text": [
      "[\u001b[1mtardis.simulation.base\u001b[0m][\u001b[1;37mINFO\u001b[0m   ]  Starting iteration 11 of 20 (\u001b[1mbase.py\u001b[0m:368)\n"
     ]
    },
    {
     "name": "stdout",
     "output_type": "stream",
     "text": [
      "[\u001b[1mtardis.simulation.base\u001b[0m][\u001b[1;37mINFO\u001b[0m   ]  Luminosity emitted   = 1.053e+43 erg / s\n",
      "\tLuminosity absorbed  = 3.363e+42 erg / s\n",
      "\tLuminosity requested = 1.059e+43 erg / s\n",
      " (\u001b[1mbase.py\u001b[0m:537)\n"
     ]
    },
    {
     "name": "stdout",
     "output_type": "stream",
     "text": [
      "[\u001b[1mtardis.simulation.base\u001b[0m][\u001b[1;37mINFO\u001b[0m   ]  Iteration converged 1/4 consecutive times. (\u001b[1mbase.py\u001b[0m:256)\n"
     ]
    },
    {
     "name": "stdout",
     "output_type": "stream",
     "text": [
      "[\u001b[1mtardis.simulation.base\u001b[0m][\u001b[1;37mINFO\u001b[0m   ]  Plasma stratification: (\u001b[1mbase.py\u001b[0m:504)\n"
     ]
    },
    {
     "data": {
      "text/html": [
       "<style  type=\"text/css\" >\n",
       "</style><table id=\"T_4fda4808_85d5_11ec_bd26_000d3ae62007\" ><thead>    <tr>        <th class=\"index_name level0\" >Shell No.</th>        <th class=\"col_heading level0 col0\" >t_rad</th>        <th class=\"col_heading level0 col1\" >next_t_rad</th>        <th class=\"col_heading level0 col2\" >w</th>        <th class=\"col_heading level0 col3\" >next_w</th>    </tr></thead><tbody>\n",
       "                <tr>\n",
       "                        <th id=\"T_4fda4808_85d5_11ec_bd26_000d3ae62007level0_row0\" class=\"row_heading level0 row0\" >0</th>\n",
       "                        <td id=\"T_4fda4808_85d5_11ec_bd26_000d3ae62007row0_col0\" class=\"data row0 col0\" >1.1e+04</td>\n",
       "                        <td id=\"T_4fda4808_85d5_11ec_bd26_000d3ae62007row0_col1\" class=\"data row0 col1\" >1.1e+04</td>\n",
       "                        <td id=\"T_4fda4808_85d5_11ec_bd26_000d3ae62007row0_col2\" class=\"data row0 col2\" >0.475</td>\n",
       "                        <td id=\"T_4fda4808_85d5_11ec_bd26_000d3ae62007row0_col3\" class=\"data row0 col3\" >0.472</td>\n",
       "            </tr>\n",
       "            <tr>\n",
       "                        <th id=\"T_4fda4808_85d5_11ec_bd26_000d3ae62007level0_row1\" class=\"row_heading level0 row1\" >5</th>\n",
       "                        <td id=\"T_4fda4808_85d5_11ec_bd26_000d3ae62007row1_col0\" class=\"data row1 col0\" >1.14e+04</td>\n",
       "                        <td id=\"T_4fda4808_85d5_11ec_bd26_000d3ae62007row1_col1\" class=\"data row1 col1\" >1.12e+04</td>\n",
       "                        <td id=\"T_4fda4808_85d5_11ec_bd26_000d3ae62007row1_col2\" class=\"data row1 col2\" >0.177</td>\n",
       "                        <td id=\"T_4fda4808_85d5_11ec_bd26_000d3ae62007row1_col3\" class=\"data row1 col3\" >0.184</td>\n",
       "            </tr>\n",
       "            <tr>\n",
       "                        <th id=\"T_4fda4808_85d5_11ec_bd26_000d3ae62007level0_row2\" class=\"row_heading level0 row2\" >10</th>\n",
       "                        <td id=\"T_4fda4808_85d5_11ec_bd26_000d3ae62007row2_col0\" class=\"data row2 col0\" >1.11e+04</td>\n",
       "                        <td id=\"T_4fda4808_85d5_11ec_bd26_000d3ae62007row2_col1\" class=\"data row2 col1\" >1.1e+04</td>\n",
       "                        <td id=\"T_4fda4808_85d5_11ec_bd26_000d3ae62007row2_col2\" class=\"data row2 col2\" >0.112</td>\n",
       "                        <td id=\"T_4fda4808_85d5_11ec_bd26_000d3ae62007row2_col3\" class=\"data row2 col3\" >0.114</td>\n",
       "            </tr>\n",
       "            <tr>\n",
       "                        <th id=\"T_4fda4808_85d5_11ec_bd26_000d3ae62007level0_row3\" class=\"row_heading level0 row3\" >15</th>\n",
       "                        <td id=\"T_4fda4808_85d5_11ec_bd26_000d3ae62007row3_col0\" class=\"data row3 col0\" >1.06e+04</td>\n",
       "                        <td id=\"T_4fda4808_85d5_11ec_bd26_000d3ae62007row3_col1\" class=\"data row3 col1\" >1.06e+04</td>\n",
       "                        <td id=\"T_4fda4808_85d5_11ec_bd26_000d3ae62007row3_col2\" class=\"data row3 col2\" >0.0878</td>\n",
       "                        <td id=\"T_4fda4808_85d5_11ec_bd26_000d3ae62007row3_col3\" class=\"data row3 col3\" >0.0859</td>\n",
       "            </tr>\n",
       "    </tbody></table>"
      ],
      "text/plain": [
       "<pandas.io.formats.style.Styler at 0x7fad2625bf50>"
      ]
     },
     "metadata": {},
     "output_type": "display_data"
    },
    {
     "name": "stdout",
     "output_type": "stream",
     "text": [
      "[\u001b[1mtardis.simulation.base\u001b[0m][\u001b[1;37mINFO\u001b[0m   ]  Current t_inner = 10628.190 K\n",
      "\tExpected t_inner for next iteration = 10644.054 K\n",
      " (\u001b[1mbase.py\u001b[0m:532)\n"
     ]
    },
    {
     "name": "stdout",
     "output_type": "stream",
     "text": [
      "[\u001b[1mtardis.simulation.base\u001b[0m][\u001b[1;37mINFO\u001b[0m   ]  Starting iteration 12 of 20 (\u001b[1mbase.py\u001b[0m:368)\n"
     ]
    },
    {
     "name": "stdout",
     "output_type": "stream",
     "text": [
      "[\u001b[1mtardis.simulation.base\u001b[0m][\u001b[1;37mINFO\u001b[0m   ]  Luminosity emitted   = 1.056e+43 erg / s\n",
      "\tLuminosity absorbed  = 3.420e+42 erg / s\n",
      "\tLuminosity requested = 1.059e+43 erg / s\n",
      " (\u001b[1mbase.py\u001b[0m:537)\n"
     ]
    },
    {
     "name": "stdout",
     "output_type": "stream",
     "text": [
      "[\u001b[1mtardis.simulation.base\u001b[0m][\u001b[1;37mINFO\u001b[0m   ]  Plasma stratification: (\u001b[1mbase.py\u001b[0m:504)\n"
     ]
    },
    {
     "data": {
      "text/html": [
       "<style  type=\"text/css\" >\n",
       "</style><table id=\"T_504b8982_85d5_11ec_bd26_000d3ae62007\" ><thead>    <tr>        <th class=\"index_name level0\" >Shell No.</th>        <th class=\"col_heading level0 col0\" >t_rad</th>        <th class=\"col_heading level0 col1\" >next_t_rad</th>        <th class=\"col_heading level0 col2\" >w</th>        <th class=\"col_heading level0 col3\" >next_w</th>    </tr></thead><tbody>\n",
       "                <tr>\n",
       "                        <th id=\"T_504b8982_85d5_11ec_bd26_000d3ae62007level0_row0\" class=\"row_heading level0 row0\" >0</th>\n",
       "                        <td id=\"T_504b8982_85d5_11ec_bd26_000d3ae62007row0_col0\" class=\"data row0 col0\" >1.1e+04</td>\n",
       "                        <td id=\"T_504b8982_85d5_11ec_bd26_000d3ae62007row0_col1\" class=\"data row0 col1\" >1.11e+04</td>\n",
       "                        <td id=\"T_504b8982_85d5_11ec_bd26_000d3ae62007row0_col2\" class=\"data row0 col2\" >0.472</td>\n",
       "                        <td id=\"T_504b8982_85d5_11ec_bd26_000d3ae62007row0_col3\" class=\"data row0 col3\" >0.467</td>\n",
       "            </tr>\n",
       "            <tr>\n",
       "                        <th id=\"T_504b8982_85d5_11ec_bd26_000d3ae62007level0_row1\" class=\"row_heading level0 row1\" >5</th>\n",
       "                        <td id=\"T_504b8982_85d5_11ec_bd26_000d3ae62007row1_col0\" class=\"data row1 col0\" >1.12e+04</td>\n",
       "                        <td id=\"T_504b8982_85d5_11ec_bd26_000d3ae62007row1_col1\" class=\"data row1 col1\" >1.13e+04</td>\n",
       "                        <td id=\"T_504b8982_85d5_11ec_bd26_000d3ae62007row1_col2\" class=\"data row1 col2\" >0.184</td>\n",
       "                        <td id=\"T_504b8982_85d5_11ec_bd26_000d3ae62007row1_col3\" class=\"data row1 col3\" >0.176</td>\n",
       "            </tr>\n",
       "            <tr>\n",
       "                        <th id=\"T_504b8982_85d5_11ec_bd26_000d3ae62007level0_row2\" class=\"row_heading level0 row2\" >10</th>\n",
       "                        <td id=\"T_504b8982_85d5_11ec_bd26_000d3ae62007row2_col0\" class=\"data row2 col0\" >1.1e+04</td>\n",
       "                        <td id=\"T_504b8982_85d5_11ec_bd26_000d3ae62007row2_col1\" class=\"data row2 col1\" >1.11e+04</td>\n",
       "                        <td id=\"T_504b8982_85d5_11ec_bd26_000d3ae62007row2_col2\" class=\"data row2 col2\" >0.114</td>\n",
       "                        <td id=\"T_504b8982_85d5_11ec_bd26_000d3ae62007row2_col3\" class=\"data row2 col3\" >0.11</td>\n",
       "            </tr>\n",
       "            <tr>\n",
       "                        <th id=\"T_504b8982_85d5_11ec_bd26_000d3ae62007level0_row3\" class=\"row_heading level0 row3\" >15</th>\n",
       "                        <td id=\"T_504b8982_85d5_11ec_bd26_000d3ae62007row3_col0\" class=\"data row3 col0\" >1.06e+04</td>\n",
       "                        <td id=\"T_504b8982_85d5_11ec_bd26_000d3ae62007row3_col1\" class=\"data row3 col1\" >1.08e+04</td>\n",
       "                        <td id=\"T_504b8982_85d5_11ec_bd26_000d3ae62007row3_col2\" class=\"data row3 col2\" >0.0859</td>\n",
       "                        <td id=\"T_504b8982_85d5_11ec_bd26_000d3ae62007row3_col3\" class=\"data row3 col3\" >0.0821</td>\n",
       "            </tr>\n",
       "    </tbody></table>"
      ],
      "text/plain": [
       "<pandas.io.formats.style.Styler at 0x7fad26135c10>"
      ]
     },
     "metadata": {},
     "output_type": "display_data"
    },
    {
     "name": "stdout",
     "output_type": "stream",
     "text": [
      "[\u001b[1mtardis.simulation.base\u001b[0m][\u001b[1;37mINFO\u001b[0m   ]  Current t_inner = 10644.054 K\n",
      "\tExpected t_inner for next iteration = 10653.543 K\n",
      " (\u001b[1mbase.py\u001b[0m:532)\n"
     ]
    },
    {
     "name": "stdout",
     "output_type": "stream",
     "text": [
      "[\u001b[1mtardis.simulation.base\u001b[0m][\u001b[1;37mINFO\u001b[0m   ]  Starting iteration 13 of 20 (\u001b[1mbase.py\u001b[0m:368)\n"
     ]
    },
    {
     "name": "stdout",
     "output_type": "stream",
     "text": [
      "[\u001b[1mtardis.simulation.base\u001b[0m][\u001b[1;37mINFO\u001b[0m   ]  Luminosity emitted   = 1.062e+43 erg / s\n",
      "\tLuminosity absorbed  = 3.406e+42 erg / s\n",
      "\tLuminosity requested = 1.059e+43 erg / s\n",
      " (\u001b[1mbase.py\u001b[0m:537)\n"
     ]
    },
    {
     "name": "stdout",
     "output_type": "stream",
     "text": [
      "[\u001b[1mtardis.simulation.base\u001b[0m][\u001b[1;37mINFO\u001b[0m   ]  Iteration converged 1/4 consecutive times. (\u001b[1mbase.py\u001b[0m:256)\n"
     ]
    },
    {
     "name": "stdout",
     "output_type": "stream",
     "text": [
      "[\u001b[1mtardis.simulation.base\u001b[0m][\u001b[1;37mINFO\u001b[0m   ]  Plasma stratification: (\u001b[1mbase.py\u001b[0m:504)\n"
     ]
    },
    {
     "data": {
      "text/html": [
       "<style  type=\"text/css\" >\n",
       "</style><table id=\"T_50bde7a2_85d5_11ec_bd26_000d3ae62007\" ><thead>    <tr>        <th class=\"index_name level0\" >Shell No.</th>        <th class=\"col_heading level0 col0\" >t_rad</th>        <th class=\"col_heading level0 col1\" >next_t_rad</th>        <th class=\"col_heading level0 col2\" >w</th>        <th class=\"col_heading level0 col3\" >next_w</th>    </tr></thead><tbody>\n",
       "                <tr>\n",
       "                        <th id=\"T_50bde7a2_85d5_11ec_bd26_000d3ae62007level0_row0\" class=\"row_heading level0 row0\" >0</th>\n",
       "                        <td id=\"T_50bde7a2_85d5_11ec_bd26_000d3ae62007row0_col0\" class=\"data row0 col0\" >1.11e+04</td>\n",
       "                        <td id=\"T_50bde7a2_85d5_11ec_bd26_000d3ae62007row0_col1\" class=\"data row0 col1\" >1.11e+04</td>\n",
       "                        <td id=\"T_50bde7a2_85d5_11ec_bd26_000d3ae62007row0_col2\" class=\"data row0 col2\" >0.467</td>\n",
       "                        <td id=\"T_50bde7a2_85d5_11ec_bd26_000d3ae62007row0_col3\" class=\"data row0 col3\" >0.466</td>\n",
       "            </tr>\n",
       "            <tr>\n",
       "                        <th id=\"T_50bde7a2_85d5_11ec_bd26_000d3ae62007level0_row1\" class=\"row_heading level0 row1\" >5</th>\n",
       "                        <td id=\"T_50bde7a2_85d5_11ec_bd26_000d3ae62007row1_col0\" class=\"data row1 col0\" >1.13e+04</td>\n",
       "                        <td id=\"T_50bde7a2_85d5_11ec_bd26_000d3ae62007row1_col1\" class=\"data row1 col1\" >1.13e+04</td>\n",
       "                        <td id=\"T_50bde7a2_85d5_11ec_bd26_000d3ae62007row1_col2\" class=\"data row1 col2\" >0.176</td>\n",
       "                        <td id=\"T_50bde7a2_85d5_11ec_bd26_000d3ae62007row1_col3\" class=\"data row1 col3\" >0.18</td>\n",
       "            </tr>\n",
       "            <tr>\n",
       "                        <th id=\"T_50bde7a2_85d5_11ec_bd26_000d3ae62007level0_row2\" class=\"row_heading level0 row2\" >10</th>\n",
       "                        <td id=\"T_50bde7a2_85d5_11ec_bd26_000d3ae62007row2_col0\" class=\"data row2 col0\" >1.11e+04</td>\n",
       "                        <td id=\"T_50bde7a2_85d5_11ec_bd26_000d3ae62007row2_col1\" class=\"data row2 col1\" >1.11e+04</td>\n",
       "                        <td id=\"T_50bde7a2_85d5_11ec_bd26_000d3ae62007row2_col2\" class=\"data row2 col2\" >0.11</td>\n",
       "                        <td id=\"T_50bde7a2_85d5_11ec_bd26_000d3ae62007row2_col3\" class=\"data row2 col3\" >0.111</td>\n",
       "            </tr>\n",
       "            <tr>\n",
       "                        <th id=\"T_50bde7a2_85d5_11ec_bd26_000d3ae62007level0_row3\" class=\"row_heading level0 row3\" >15</th>\n",
       "                        <td id=\"T_50bde7a2_85d5_11ec_bd26_000d3ae62007row3_col0\" class=\"data row3 col0\" >1.08e+04</td>\n",
       "                        <td id=\"T_50bde7a2_85d5_11ec_bd26_000d3ae62007row3_col1\" class=\"data row3 col1\" >1.08e+04</td>\n",
       "                        <td id=\"T_50bde7a2_85d5_11ec_bd26_000d3ae62007row3_col2\" class=\"data row3 col2\" >0.0821</td>\n",
       "                        <td id=\"T_50bde7a2_85d5_11ec_bd26_000d3ae62007row3_col3\" class=\"data row3 col3\" >0.0841</td>\n",
       "            </tr>\n",
       "    </tbody></table>"
      ],
      "text/plain": [
       "<pandas.io.formats.style.Styler at 0x7fad26135b90>"
      ]
     },
     "metadata": {},
     "output_type": "display_data"
    },
    {
     "name": "stdout",
     "output_type": "stream",
     "text": [
      "[\u001b[1mtardis.simulation.base\u001b[0m][\u001b[1;37mINFO\u001b[0m   ]  Current t_inner = 10653.543 K\n",
      "\tExpected t_inner for next iteration = 10647.277 K\n",
      " (\u001b[1mbase.py\u001b[0m:532)\n"
     ]
    },
    {
     "name": "stdout",
     "output_type": "stream",
     "text": [
      "[\u001b[1mtardis.simulation.base\u001b[0m][\u001b[1;37mINFO\u001b[0m   ]  Starting iteration 14 of 20 (\u001b[1mbase.py\u001b[0m:368)\n"
     ]
    },
    {
     "name": "stdout",
     "output_type": "stream",
     "text": [
      "[\u001b[1mtardis.simulation.base\u001b[0m][\u001b[1;37mINFO\u001b[0m   ]  Luminosity emitted   = 1.063e+43 erg / s\n",
      "\tLuminosity absorbed  = 3.369e+42 erg / s\n",
      "\tLuminosity requested = 1.059e+43 erg / s\n",
      " (\u001b[1mbase.py\u001b[0m:537)\n"
     ]
    },
    {
     "name": "stdout",
     "output_type": "stream",
     "text": [
      "[\u001b[1mtardis.simulation.base\u001b[0m][\u001b[1;37mINFO\u001b[0m   ]  Iteration converged 2/4 consecutive times. (\u001b[1mbase.py\u001b[0m:256)\n"
     ]
    },
    {
     "name": "stdout",
     "output_type": "stream",
     "text": [
      "[\u001b[1mtardis.simulation.base\u001b[0m][\u001b[1;37mINFO\u001b[0m   ]  Plasma stratification: (\u001b[1mbase.py\u001b[0m:504)\n"
     ]
    },
    {
     "data": {
      "text/html": [
       "<style  type=\"text/css\" >\n",
       "</style><table id=\"T_5130940a_85d5_11ec_bd26_000d3ae62007\" ><thead>    <tr>        <th class=\"index_name level0\" >Shell No.</th>        <th class=\"col_heading level0 col0\" >t_rad</th>        <th class=\"col_heading level0 col1\" >next_t_rad</th>        <th class=\"col_heading level0 col2\" >w</th>        <th class=\"col_heading level0 col3\" >next_w</th>    </tr></thead><tbody>\n",
       "                <tr>\n",
       "                        <th id=\"T_5130940a_85d5_11ec_bd26_000d3ae62007level0_row0\" class=\"row_heading level0 row0\" >0</th>\n",
       "                        <td id=\"T_5130940a_85d5_11ec_bd26_000d3ae62007row0_col0\" class=\"data row0 col0\" >1.11e+04</td>\n",
       "                        <td id=\"T_5130940a_85d5_11ec_bd26_000d3ae62007row0_col1\" class=\"data row0 col1\" >1.11e+04</td>\n",
       "                        <td id=\"T_5130940a_85d5_11ec_bd26_000d3ae62007row0_col2\" class=\"data row0 col2\" >0.466</td>\n",
       "                        <td id=\"T_5130940a_85d5_11ec_bd26_000d3ae62007row0_col3\" class=\"data row0 col3\" >0.469</td>\n",
       "            </tr>\n",
       "            <tr>\n",
       "                        <th id=\"T_5130940a_85d5_11ec_bd26_000d3ae62007level0_row1\" class=\"row_heading level0 row1\" >5</th>\n",
       "                        <td id=\"T_5130940a_85d5_11ec_bd26_000d3ae62007row1_col0\" class=\"data row1 col0\" >1.13e+04</td>\n",
       "                        <td id=\"T_5130940a_85d5_11ec_bd26_000d3ae62007row1_col1\" class=\"data row1 col1\" >1.13e+04</td>\n",
       "                        <td id=\"T_5130940a_85d5_11ec_bd26_000d3ae62007row1_col2\" class=\"data row1 col2\" >0.18</td>\n",
       "                        <td id=\"T_5130940a_85d5_11ec_bd26_000d3ae62007row1_col3\" class=\"data row1 col3\" >0.182</td>\n",
       "            </tr>\n",
       "            <tr>\n",
       "                        <th id=\"T_5130940a_85d5_11ec_bd26_000d3ae62007level0_row2\" class=\"row_heading level0 row2\" >10</th>\n",
       "                        <td id=\"T_5130940a_85d5_11ec_bd26_000d3ae62007row2_col0\" class=\"data row2 col0\" >1.11e+04</td>\n",
       "                        <td id=\"T_5130940a_85d5_11ec_bd26_000d3ae62007row2_col1\" class=\"data row2 col1\" >1.1e+04</td>\n",
       "                        <td id=\"T_5130940a_85d5_11ec_bd26_000d3ae62007row2_col2\" class=\"data row2 col2\" >0.111</td>\n",
       "                        <td id=\"T_5130940a_85d5_11ec_bd26_000d3ae62007row2_col3\" class=\"data row2 col3\" >0.113</td>\n",
       "            </tr>\n",
       "            <tr>\n",
       "                        <th id=\"T_5130940a_85d5_11ec_bd26_000d3ae62007level0_row3\" class=\"row_heading level0 row3\" >15</th>\n",
       "                        <td id=\"T_5130940a_85d5_11ec_bd26_000d3ae62007row3_col0\" class=\"data row3 col0\" >1.08e+04</td>\n",
       "                        <td id=\"T_5130940a_85d5_11ec_bd26_000d3ae62007row3_col1\" class=\"data row3 col1\" >1.07e+04</td>\n",
       "                        <td id=\"T_5130940a_85d5_11ec_bd26_000d3ae62007row3_col2\" class=\"data row3 col2\" >0.0841</td>\n",
       "                        <td id=\"T_5130940a_85d5_11ec_bd26_000d3ae62007row3_col3\" class=\"data row3 col3\" >0.0854</td>\n",
       "            </tr>\n",
       "    </tbody></table>"
      ],
      "text/plain": [
       "<pandas.io.formats.style.Styler at 0x7fad26212cd0>"
      ]
     },
     "metadata": {},
     "output_type": "display_data"
    },
    {
     "name": "stdout",
     "output_type": "stream",
     "text": [
      "[\u001b[1mtardis.simulation.base\u001b[0m][\u001b[1;37mINFO\u001b[0m   ]  Current t_inner = 10647.277 K\n",
      "\tExpected t_inner for next iteration = 10638.875 K\n",
      " (\u001b[1mbase.py\u001b[0m:532)\n"
     ]
    },
    {
     "name": "stdout",
     "output_type": "stream",
     "text": [
      "[\u001b[1mtardis.simulation.base\u001b[0m][\u001b[1;37mINFO\u001b[0m   ]  Starting iteration 15 of 20 (\u001b[1mbase.py\u001b[0m:368)\n"
     ]
    },
    {
     "name": "stdout",
     "output_type": "stream",
     "text": [
      "[\u001b[1mtardis.simulation.base\u001b[0m][\u001b[1;37mINFO\u001b[0m   ]  Luminosity emitted   = 1.053e+43 erg / s\n",
      "\tLuminosity absorbed  = 3.417e+42 erg / s\n",
      "\tLuminosity requested = 1.059e+43 erg / s\n",
      " (\u001b[1mbase.py\u001b[0m:537)\n"
     ]
    },
    {
     "name": "stdout",
     "output_type": "stream",
     "text": [
      "[\u001b[1mtardis.simulation.base\u001b[0m][\u001b[1;37mINFO\u001b[0m   ]  Iteration converged 3/4 consecutive times. (\u001b[1mbase.py\u001b[0m:256)\n"
     ]
    },
    {
     "name": "stdout",
     "output_type": "stream",
     "text": [
      "[\u001b[1mtardis.simulation.base\u001b[0m][\u001b[1;37mINFO\u001b[0m   ]  Plasma stratification: (\u001b[1mbase.py\u001b[0m:504)\n"
     ]
    },
    {
     "data": {
      "text/html": [
       "<style  type=\"text/css\" >\n",
       "</style><table id=\"T_51a3f5da_85d5_11ec_bd26_000d3ae62007\" ><thead>    <tr>        <th class=\"index_name level0\" >Shell No.</th>        <th class=\"col_heading level0 col0\" >t_rad</th>        <th class=\"col_heading level0 col1\" >next_t_rad</th>        <th class=\"col_heading level0 col2\" >w</th>        <th class=\"col_heading level0 col3\" >next_w</th>    </tr></thead><tbody>\n",
       "                <tr>\n",
       "                        <th id=\"T_51a3f5da_85d5_11ec_bd26_000d3ae62007level0_row0\" class=\"row_heading level0 row0\" >0</th>\n",
       "                        <td id=\"T_51a3f5da_85d5_11ec_bd26_000d3ae62007row0_col0\" class=\"data row0 col0\" >1.11e+04</td>\n",
       "                        <td id=\"T_51a3f5da_85d5_11ec_bd26_000d3ae62007row0_col1\" class=\"data row0 col1\" >1.1e+04</td>\n",
       "                        <td id=\"T_51a3f5da_85d5_11ec_bd26_000d3ae62007row0_col2\" class=\"data row0 col2\" >0.469</td>\n",
       "                        <td id=\"T_51a3f5da_85d5_11ec_bd26_000d3ae62007row0_col3\" class=\"data row0 col3\" >0.484</td>\n",
       "            </tr>\n",
       "            <tr>\n",
       "                        <th id=\"T_51a3f5da_85d5_11ec_bd26_000d3ae62007level0_row1\" class=\"row_heading level0 row1\" >5</th>\n",
       "                        <td id=\"T_51a3f5da_85d5_11ec_bd26_000d3ae62007row1_col0\" class=\"data row1 col0\" >1.13e+04</td>\n",
       "                        <td id=\"T_51a3f5da_85d5_11ec_bd26_000d3ae62007row1_col1\" class=\"data row1 col1\" >1.13e+04</td>\n",
       "                        <td id=\"T_51a3f5da_85d5_11ec_bd26_000d3ae62007row1_col2\" class=\"data row1 col2\" >0.182</td>\n",
       "                        <td id=\"T_51a3f5da_85d5_11ec_bd26_000d3ae62007row1_col3\" class=\"data row1 col3\" >0.181</td>\n",
       "            </tr>\n",
       "            <tr>\n",
       "                        <th id=\"T_51a3f5da_85d5_11ec_bd26_000d3ae62007level0_row2\" class=\"row_heading level0 row2\" >10</th>\n",
       "                        <td id=\"T_51a3f5da_85d5_11ec_bd26_000d3ae62007row2_col0\" class=\"data row2 col0\" >1.1e+04</td>\n",
       "                        <td id=\"T_51a3f5da_85d5_11ec_bd26_000d3ae62007row2_col1\" class=\"data row2 col1\" >1.1e+04</td>\n",
       "                        <td id=\"T_51a3f5da_85d5_11ec_bd26_000d3ae62007row2_col2\" class=\"data row2 col2\" >0.113</td>\n",
       "                        <td id=\"T_51a3f5da_85d5_11ec_bd26_000d3ae62007row2_col3\" class=\"data row2 col3\" >0.113</td>\n",
       "            </tr>\n",
       "            <tr>\n",
       "                        <th id=\"T_51a3f5da_85d5_11ec_bd26_000d3ae62007level0_row3\" class=\"row_heading level0 row3\" >15</th>\n",
       "                        <td id=\"T_51a3f5da_85d5_11ec_bd26_000d3ae62007row3_col0\" class=\"data row3 col0\" >1.07e+04</td>\n",
       "                        <td id=\"T_51a3f5da_85d5_11ec_bd26_000d3ae62007row3_col1\" class=\"data row3 col1\" >1.07e+04</td>\n",
       "                        <td id=\"T_51a3f5da_85d5_11ec_bd26_000d3ae62007row3_col2\" class=\"data row3 col2\" >0.0854</td>\n",
       "                        <td id=\"T_51a3f5da_85d5_11ec_bd26_000d3ae62007row3_col3\" class=\"data row3 col3\" >0.0858</td>\n",
       "            </tr>\n",
       "    </tbody></table>"
      ],
      "text/plain": [
       "<pandas.io.formats.style.Styler at 0x7fad26135550>"
      ]
     },
     "metadata": {},
     "output_type": "display_data"
    },
    {
     "name": "stdout",
     "output_type": "stream",
     "text": [
      "[\u001b[1mtardis.simulation.base\u001b[0m][\u001b[1;37mINFO\u001b[0m   ]  Current t_inner = 10638.875 K\n",
      "\tExpected t_inner for next iteration = 10655.125 K\n",
      " (\u001b[1mbase.py\u001b[0m:532)\n"
     ]
    },
    {
     "name": "stdout",
     "output_type": "stream",
     "text": [
      "[\u001b[1mtardis.simulation.base\u001b[0m][\u001b[1;37mINFO\u001b[0m   ]  Starting iteration 16 of 20 (\u001b[1mbase.py\u001b[0m:368)\n"
     ]
    },
    {
     "name": "stdout",
     "output_type": "stream",
     "text": [
      "[\u001b[1mtardis.simulation.base\u001b[0m][\u001b[1;37mINFO\u001b[0m   ]  Luminosity emitted   = 1.059e+43 erg / s\n",
      "\tLuminosity absorbed  = 3.445e+42 erg / s\n",
      "\tLuminosity requested = 1.059e+43 erg / s\n",
      " (\u001b[1mbase.py\u001b[0m:537)\n"
     ]
    },
    {
     "name": "stdout",
     "output_type": "stream",
     "text": [
      "[\u001b[1mtardis.simulation.base\u001b[0m][\u001b[1;37mINFO\u001b[0m   ]  Iteration converged 4/4 consecutive times. (\u001b[1mbase.py\u001b[0m:256)\n"
     ]
    },
    {
     "name": "stdout",
     "output_type": "stream",
     "text": [
      "[\u001b[1mtardis.simulation.base\u001b[0m][\u001b[1;37mINFO\u001b[0m   ]  Plasma stratification: (\u001b[1mbase.py\u001b[0m:504)\n"
     ]
    },
    {
     "data": {
      "text/html": [
       "<style  type=\"text/css\" >\n",
       "</style><table id=\"T_52231702_85d5_11ec_bd26_000d3ae62007\" ><thead>    <tr>        <th class=\"index_name level0\" >Shell No.</th>        <th class=\"col_heading level0 col0\" >t_rad</th>        <th class=\"col_heading level0 col1\" >next_t_rad</th>        <th class=\"col_heading level0 col2\" >w</th>        <th class=\"col_heading level0 col3\" >next_w</th>    </tr></thead><tbody>\n",
       "                <tr>\n",
       "                        <th id=\"T_52231702_85d5_11ec_bd26_000d3ae62007level0_row0\" class=\"row_heading level0 row0\" >0</th>\n",
       "                        <td id=\"T_52231702_85d5_11ec_bd26_000d3ae62007row0_col0\" class=\"data row0 col0\" >1.1e+04</td>\n",
       "                        <td id=\"T_52231702_85d5_11ec_bd26_000d3ae62007row0_col1\" class=\"data row0 col1\" >1.1e+04</td>\n",
       "                        <td id=\"T_52231702_85d5_11ec_bd26_000d3ae62007row0_col2\" class=\"data row0 col2\" >0.484</td>\n",
       "                        <td id=\"T_52231702_85d5_11ec_bd26_000d3ae62007row0_col3\" class=\"data row0 col3\" >0.472</td>\n",
       "            </tr>\n",
       "            <tr>\n",
       "                        <th id=\"T_52231702_85d5_11ec_bd26_000d3ae62007level0_row1\" class=\"row_heading level0 row1\" >5</th>\n",
       "                        <td id=\"T_52231702_85d5_11ec_bd26_000d3ae62007row1_col0\" class=\"data row1 col0\" >1.13e+04</td>\n",
       "                        <td id=\"T_52231702_85d5_11ec_bd26_000d3ae62007row1_col1\" class=\"data row1 col1\" >1.13e+04</td>\n",
       "                        <td id=\"T_52231702_85d5_11ec_bd26_000d3ae62007row1_col2\" class=\"data row1 col2\" >0.181</td>\n",
       "                        <td id=\"T_52231702_85d5_11ec_bd26_000d3ae62007row1_col3\" class=\"data row1 col3\" >0.177</td>\n",
       "            </tr>\n",
       "            <tr>\n",
       "                        <th id=\"T_52231702_85d5_11ec_bd26_000d3ae62007level0_row2\" class=\"row_heading level0 row2\" >10</th>\n",
       "                        <td id=\"T_52231702_85d5_11ec_bd26_000d3ae62007row2_col0\" class=\"data row2 col0\" >1.1e+04</td>\n",
       "                        <td id=\"T_52231702_85d5_11ec_bd26_000d3ae62007row2_col1\" class=\"data row2 col1\" >1.1e+04</td>\n",
       "                        <td id=\"T_52231702_85d5_11ec_bd26_000d3ae62007row2_col2\" class=\"data row2 col2\" >0.113</td>\n",
       "                        <td id=\"T_52231702_85d5_11ec_bd26_000d3ae62007row2_col3\" class=\"data row2 col3\" >0.113</td>\n",
       "            </tr>\n",
       "            <tr>\n",
       "                        <th id=\"T_52231702_85d5_11ec_bd26_000d3ae62007level0_row3\" class=\"row_heading level0 row3\" >15</th>\n",
       "                        <td id=\"T_52231702_85d5_11ec_bd26_000d3ae62007row3_col0\" class=\"data row3 col0\" >1.07e+04</td>\n",
       "                        <td id=\"T_52231702_85d5_11ec_bd26_000d3ae62007row3_col1\" class=\"data row3 col1\" >1.06e+04</td>\n",
       "                        <td id=\"T_52231702_85d5_11ec_bd26_000d3ae62007row3_col2\" class=\"data row3 col2\" >0.0858</td>\n",
       "                        <td id=\"T_52231702_85d5_11ec_bd26_000d3ae62007row3_col3\" class=\"data row3 col3\" >0.0858</td>\n",
       "            </tr>\n",
       "    </tbody></table>"
      ],
      "text/plain": [
       "<pandas.io.formats.style.Styler at 0x7fad26145bd0>"
      ]
     },
     "metadata": {},
     "output_type": "display_data"
    },
    {
     "name": "stdout",
     "output_type": "stream",
     "text": [
      "[\u001b[1mtardis.simulation.base\u001b[0m][\u001b[1;37mINFO\u001b[0m   ]  Current t_inner = 10655.125 K\n",
      "\tExpected t_inner for next iteration = 10655.561 K\n",
      " (\u001b[1mbase.py\u001b[0m:532)\n"
     ]
    },
    {
     "name": "stdout",
     "output_type": "stream",
     "text": [
      "[\u001b[1mtardis.simulation.base\u001b[0m][\u001b[1;37mINFO\u001b[0m   ]  Starting iteration 17 of 20 (\u001b[1mbase.py\u001b[0m:368)\n"
     ]
    },
    {
     "name": "stdout",
     "output_type": "stream",
     "text": [
      "[\u001b[1mtardis.simulation.base\u001b[0m][\u001b[1;37mINFO\u001b[0m   ]  Luminosity emitted   = 1.067e+43 erg / s\n",
      "\tLuminosity absorbed  = 3.372e+42 erg / s\n",
      "\tLuminosity requested = 1.059e+43 erg / s\n",
      " (\u001b[1mbase.py\u001b[0m:537)\n"
     ]
    },
    {
     "name": "stdout",
     "output_type": "stream",
     "text": [
      "[\u001b[1mtardis.simulation.base\u001b[0m][\u001b[1;37mINFO\u001b[0m   ]  Plasma stratification: (\u001b[1mbase.py\u001b[0m:504)\n"
     ]
    },
    {
     "data": {
      "text/html": [
       "<style  type=\"text/css\" >\n",
       "</style><table id=\"T_52a2d794_85d5_11ec_bd26_000d3ae62007\" ><thead>    <tr>        <th class=\"index_name level0\" >Shell No.</th>        <th class=\"col_heading level0 col0\" >t_rad</th>        <th class=\"col_heading level0 col1\" >next_t_rad</th>        <th class=\"col_heading level0 col2\" >w</th>        <th class=\"col_heading level0 col3\" >next_w</th>    </tr></thead><tbody>\n",
       "                <tr>\n",
       "                        <th id=\"T_52a2d794_85d5_11ec_bd26_000d3ae62007level0_row0\" class=\"row_heading level0 row0\" >0</th>\n",
       "                        <td id=\"T_52a2d794_85d5_11ec_bd26_000d3ae62007row0_col0\" class=\"data row0 col0\" >1.1e+04</td>\n",
       "                        <td id=\"T_52a2d794_85d5_11ec_bd26_000d3ae62007row0_col1\" class=\"data row0 col1\" >1.11e+04</td>\n",
       "                        <td id=\"T_52a2d794_85d5_11ec_bd26_000d3ae62007row0_col2\" class=\"data row0 col2\" >0.472</td>\n",
       "                        <td id=\"T_52a2d794_85d5_11ec_bd26_000d3ae62007row0_col3\" class=\"data row0 col3\" >0.468</td>\n",
       "            </tr>\n",
       "            <tr>\n",
       "                        <th id=\"T_52a2d794_85d5_11ec_bd26_000d3ae62007level0_row1\" class=\"row_heading level0 row1\" >5</th>\n",
       "                        <td id=\"T_52a2d794_85d5_11ec_bd26_000d3ae62007row1_col0\" class=\"data row1 col0\" >1.13e+04</td>\n",
       "                        <td id=\"T_52a2d794_85d5_11ec_bd26_000d3ae62007row1_col1\" class=\"data row1 col1\" >1.14e+04</td>\n",
       "                        <td id=\"T_52a2d794_85d5_11ec_bd26_000d3ae62007row1_col2\" class=\"data row1 col2\" >0.177</td>\n",
       "                        <td id=\"T_52a2d794_85d5_11ec_bd26_000d3ae62007row1_col3\" class=\"data row1 col3\" >0.175</td>\n",
       "            </tr>\n",
       "            <tr>\n",
       "                        <th id=\"T_52a2d794_85d5_11ec_bd26_000d3ae62007level0_row2\" class=\"row_heading level0 row2\" >10</th>\n",
       "                        <td id=\"T_52a2d794_85d5_11ec_bd26_000d3ae62007row2_col0\" class=\"data row2 col0\" >1.1e+04</td>\n",
       "                        <td id=\"T_52a2d794_85d5_11ec_bd26_000d3ae62007row2_col1\" class=\"data row2 col1\" >1.11e+04</td>\n",
       "                        <td id=\"T_52a2d794_85d5_11ec_bd26_000d3ae62007row2_col2\" class=\"data row2 col2\" >0.113</td>\n",
       "                        <td id=\"T_52a2d794_85d5_11ec_bd26_000d3ae62007row2_col3\" class=\"data row2 col3\" >0.11</td>\n",
       "            </tr>\n",
       "            <tr>\n",
       "                        <th id=\"T_52a2d794_85d5_11ec_bd26_000d3ae62007level0_row3\" class=\"row_heading level0 row3\" >15</th>\n",
       "                        <td id=\"T_52a2d794_85d5_11ec_bd26_000d3ae62007row3_col0\" class=\"data row3 col0\" >1.06e+04</td>\n",
       "                        <td id=\"T_52a2d794_85d5_11ec_bd26_000d3ae62007row3_col1\" class=\"data row3 col1\" >1.08e+04</td>\n",
       "                        <td id=\"T_52a2d794_85d5_11ec_bd26_000d3ae62007row3_col2\" class=\"data row3 col2\" >0.0858</td>\n",
       "                        <td id=\"T_52a2d794_85d5_11ec_bd26_000d3ae62007row3_col3\" class=\"data row3 col3\" >0.0816</td>\n",
       "            </tr>\n",
       "    </tbody></table>"
      ],
      "text/plain": [
       "<pandas.io.formats.style.Styler at 0x7fad26212f10>"
      ]
     },
     "metadata": {},
     "output_type": "display_data"
    },
    {
     "name": "stdout",
     "output_type": "stream",
     "text": [
      "[\u001b[1mtardis.simulation.base\u001b[0m][\u001b[1;37mINFO\u001b[0m   ]  Current t_inner = 10655.561 K\n",
      "\tExpected t_inner for next iteration = 10636.536 K\n",
      " (\u001b[1mbase.py\u001b[0m:532)\n"
     ]
    },
    {
     "name": "stdout",
     "output_type": "stream",
     "text": [
      "[\u001b[1mtardis.simulation.base\u001b[0m][\u001b[1;37mINFO\u001b[0m   ]  Starting iteration 18 of 20 (\u001b[1mbase.py\u001b[0m:368)\n"
     ]
    },
    {
     "name": "stdout",
     "output_type": "stream",
     "text": [
      "[\u001b[1mtardis.simulation.base\u001b[0m][\u001b[1;37mINFO\u001b[0m   ]  Luminosity emitted   = 1.057e+43 erg / s\n",
      "\tLuminosity absorbed  = 3.365e+42 erg / s\n",
      "\tLuminosity requested = 1.059e+43 erg / s\n",
      " (\u001b[1mbase.py\u001b[0m:537)\n"
     ]
    },
    {
     "name": "stdout",
     "output_type": "stream",
     "text": [
      "[\u001b[1mtardis.simulation.base\u001b[0m][\u001b[1;37mINFO\u001b[0m   ]  Iteration converged 1/4 consecutive times. (\u001b[1mbase.py\u001b[0m:256)\n"
     ]
    },
    {
     "name": "stdout",
     "output_type": "stream",
     "text": [
      "[\u001b[1mtardis.simulation.base\u001b[0m][\u001b[1;37mINFO\u001b[0m   ]  Plasma stratification: (\u001b[1mbase.py\u001b[0m:504)\n"
     ]
    },
    {
     "data": {
      "text/html": [
       "<style  type=\"text/css\" >\n",
       "</style><table id=\"T_5321a77c_85d5_11ec_bd26_000d3ae62007\" ><thead>    <tr>        <th class=\"index_name level0\" >Shell No.</th>        <th class=\"col_heading level0 col0\" >t_rad</th>        <th class=\"col_heading level0 col1\" >next_t_rad</th>        <th class=\"col_heading level0 col2\" >w</th>        <th class=\"col_heading level0 col3\" >next_w</th>    </tr></thead><tbody>\n",
       "                <tr>\n",
       "                        <th id=\"T_5321a77c_85d5_11ec_bd26_000d3ae62007level0_row0\" class=\"row_heading level0 row0\" >0</th>\n",
       "                        <td id=\"T_5321a77c_85d5_11ec_bd26_000d3ae62007row0_col0\" class=\"data row0 col0\" >1.11e+04</td>\n",
       "                        <td id=\"T_5321a77c_85d5_11ec_bd26_000d3ae62007row0_col1\" class=\"data row0 col1\" >1.11e+04</td>\n",
       "                        <td id=\"T_5321a77c_85d5_11ec_bd26_000d3ae62007row0_col2\" class=\"data row0 col2\" >0.468</td>\n",
       "                        <td id=\"T_5321a77c_85d5_11ec_bd26_000d3ae62007row0_col3\" class=\"data row0 col3\" >0.464</td>\n",
       "            </tr>\n",
       "            <tr>\n",
       "                        <th id=\"T_5321a77c_85d5_11ec_bd26_000d3ae62007level0_row1\" class=\"row_heading level0 row1\" >5</th>\n",
       "                        <td id=\"T_5321a77c_85d5_11ec_bd26_000d3ae62007row1_col0\" class=\"data row1 col0\" >1.14e+04</td>\n",
       "                        <td id=\"T_5321a77c_85d5_11ec_bd26_000d3ae62007row1_col1\" class=\"data row1 col1\" >1.13e+04</td>\n",
       "                        <td id=\"T_5321a77c_85d5_11ec_bd26_000d3ae62007row1_col2\" class=\"data row1 col2\" >0.175</td>\n",
       "                        <td id=\"T_5321a77c_85d5_11ec_bd26_000d3ae62007row1_col3\" class=\"data row1 col3\" >0.177</td>\n",
       "            </tr>\n",
       "            <tr>\n",
       "                        <th id=\"T_5321a77c_85d5_11ec_bd26_000d3ae62007level0_row2\" class=\"row_heading level0 row2\" >10</th>\n",
       "                        <td id=\"T_5321a77c_85d5_11ec_bd26_000d3ae62007row2_col0\" class=\"data row2 col0\" >1.11e+04</td>\n",
       "                        <td id=\"T_5321a77c_85d5_11ec_bd26_000d3ae62007row2_col1\" class=\"data row2 col1\" >1.1e+04</td>\n",
       "                        <td id=\"T_5321a77c_85d5_11ec_bd26_000d3ae62007row2_col2\" class=\"data row2 col2\" >0.11</td>\n",
       "                        <td id=\"T_5321a77c_85d5_11ec_bd26_000d3ae62007row2_col3\" class=\"data row2 col3\" >0.113</td>\n",
       "            </tr>\n",
       "            <tr>\n",
       "                        <th id=\"T_5321a77c_85d5_11ec_bd26_000d3ae62007level0_row3\" class=\"row_heading level0 row3\" >15</th>\n",
       "                        <td id=\"T_5321a77c_85d5_11ec_bd26_000d3ae62007row3_col0\" class=\"data row3 col0\" >1.08e+04</td>\n",
       "                        <td id=\"T_5321a77c_85d5_11ec_bd26_000d3ae62007row3_col1\" class=\"data row3 col1\" >1.07e+04</td>\n",
       "                        <td id=\"T_5321a77c_85d5_11ec_bd26_000d3ae62007row3_col2\" class=\"data row3 col2\" >0.0816</td>\n",
       "                        <td id=\"T_5321a77c_85d5_11ec_bd26_000d3ae62007row3_col3\" class=\"data row3 col3\" >0.0848</td>\n",
       "            </tr>\n",
       "    </tbody></table>"
      ],
      "text/plain": [
       "<pandas.io.formats.style.Styler at 0x7fad2625bd90>"
      ]
     },
     "metadata": {},
     "output_type": "display_data"
    },
    {
     "name": "stdout",
     "output_type": "stream",
     "text": [
      "[\u001b[1mtardis.simulation.base\u001b[0m][\u001b[1;37mINFO\u001b[0m   ]  Current t_inner = 10636.536 K\n",
      "\tExpected t_inner for next iteration = 10641.692 K\n",
      " (\u001b[1mbase.py\u001b[0m:532)\n"
     ]
    },
    {
     "name": "stdout",
     "output_type": "stream",
     "text": [
      "[\u001b[1mtardis.simulation.base\u001b[0m][\u001b[1;37mINFO\u001b[0m   ]  Starting iteration 19 of 20 (\u001b[1mbase.py\u001b[0m:368)\n"
     ]
    },
    {
     "name": "stdout",
     "output_type": "stream",
     "text": [
      "[\u001b[1mtardis.simulation.base\u001b[0m][\u001b[1;37mINFO\u001b[0m   ]  Luminosity emitted   = 1.056e+43 erg / s\n",
      "\tLuminosity absorbed  = 3.405e+42 erg / s\n",
      "\tLuminosity requested = 1.059e+43 erg / s\n",
      " (\u001b[1mbase.py\u001b[0m:537)\n"
     ]
    },
    {
     "name": "stdout",
     "output_type": "stream",
     "text": [
      "[\u001b[1mtardis.simulation.base\u001b[0m][\u001b[1;37mINFO\u001b[0m   ]  Iteration converged 2/4 consecutive times. (\u001b[1mbase.py\u001b[0m:256)\n"
     ]
    },
    {
     "name": "stdout",
     "output_type": "stream",
     "text": [
      "[\u001b[1mtardis.simulation.base\u001b[0m][\u001b[1;37mINFO\u001b[0m   ]  Plasma stratification: (\u001b[1mbase.py\u001b[0m:504)\n"
     ]
    },
    {
     "data": {
      "text/html": [
       "<style  type=\"text/css\" >\n",
       "</style><table id=\"T_53a6c88a_85d5_11ec_bd26_000d3ae62007\" ><thead>    <tr>        <th class=\"index_name level0\" >Shell No.</th>        <th class=\"col_heading level0 col0\" >t_rad</th>        <th class=\"col_heading level0 col1\" >next_t_rad</th>        <th class=\"col_heading level0 col2\" >w</th>        <th class=\"col_heading level0 col3\" >next_w</th>    </tr></thead><tbody>\n",
       "                <tr>\n",
       "                        <th id=\"T_53a6c88a_85d5_11ec_bd26_000d3ae62007level0_row0\" class=\"row_heading level0 row0\" >0</th>\n",
       "                        <td id=\"T_53a6c88a_85d5_11ec_bd26_000d3ae62007row0_col0\" class=\"data row0 col0\" >1.11e+04</td>\n",
       "                        <td id=\"T_53a6c88a_85d5_11ec_bd26_000d3ae62007row0_col1\" class=\"data row0 col1\" >1.11e+04</td>\n",
       "                        <td id=\"T_53a6c88a_85d5_11ec_bd26_000d3ae62007row0_col2\" class=\"data row0 col2\" >0.464</td>\n",
       "                        <td id=\"T_53a6c88a_85d5_11ec_bd26_000d3ae62007row0_col3\" class=\"data row0 col3\" >0.466</td>\n",
       "            </tr>\n",
       "            <tr>\n",
       "                        <th id=\"T_53a6c88a_85d5_11ec_bd26_000d3ae62007level0_row1\" class=\"row_heading level0 row1\" >5</th>\n",
       "                        <td id=\"T_53a6c88a_85d5_11ec_bd26_000d3ae62007row1_col0\" class=\"data row1 col0\" >1.13e+04</td>\n",
       "                        <td id=\"T_53a6c88a_85d5_11ec_bd26_000d3ae62007row1_col1\" class=\"data row1 col1\" >1.13e+04</td>\n",
       "                        <td id=\"T_53a6c88a_85d5_11ec_bd26_000d3ae62007row1_col2\" class=\"data row1 col2\" >0.177</td>\n",
       "                        <td id=\"T_53a6c88a_85d5_11ec_bd26_000d3ae62007row1_col3\" class=\"data row1 col3\" >0.177</td>\n",
       "            </tr>\n",
       "            <tr>\n",
       "                        <th id=\"T_53a6c88a_85d5_11ec_bd26_000d3ae62007level0_row2\" class=\"row_heading level0 row2\" >10</th>\n",
       "                        <td id=\"T_53a6c88a_85d5_11ec_bd26_000d3ae62007row2_col0\" class=\"data row2 col0\" >1.1e+04</td>\n",
       "                        <td id=\"T_53a6c88a_85d5_11ec_bd26_000d3ae62007row2_col1\" class=\"data row2 col1\" >1.11e+04</td>\n",
       "                        <td id=\"T_53a6c88a_85d5_11ec_bd26_000d3ae62007row2_col2\" class=\"data row2 col2\" >0.113</td>\n",
       "                        <td id=\"T_53a6c88a_85d5_11ec_bd26_000d3ae62007row2_col3\" class=\"data row2 col3\" >0.111</td>\n",
       "            </tr>\n",
       "            <tr>\n",
       "                        <th id=\"T_53a6c88a_85d5_11ec_bd26_000d3ae62007level0_row3\" class=\"row_heading level0 row3\" >15</th>\n",
       "                        <td id=\"T_53a6c88a_85d5_11ec_bd26_000d3ae62007row3_col0\" class=\"data row3 col0\" >1.07e+04</td>\n",
       "                        <td id=\"T_53a6c88a_85d5_11ec_bd26_000d3ae62007row3_col1\" class=\"data row3 col1\" >1.07e+04</td>\n",
       "                        <td id=\"T_53a6c88a_85d5_11ec_bd26_000d3ae62007row3_col2\" class=\"data row3 col2\" >0.0848</td>\n",
       "                        <td id=\"T_53a6c88a_85d5_11ec_bd26_000d3ae62007row3_col3\" class=\"data row3 col3\" >0.0853</td>\n",
       "            </tr>\n",
       "    </tbody></table>"
      ],
      "text/plain": [
       "<pandas.io.formats.style.Styler at 0x7fad2613b0d0>"
      ]
     },
     "metadata": {},
     "output_type": "display_data"
    },
    {
     "name": "stdout",
     "output_type": "stream",
     "text": [
      "[\u001b[1mtardis.simulation.base\u001b[0m][\u001b[1;37mINFO\u001b[0m   ]  Current t_inner = 10641.692 K\n",
      "\tExpected t_inner for next iteration = 10650.463 K\n",
      " (\u001b[1mbase.py\u001b[0m:532)\n"
     ]
    },
    {
     "name": "stdout",
     "output_type": "stream",
     "text": [
      "[\u001b[1mtardis.simulation.base\u001b[0m][\u001b[1;37mINFO\u001b[0m   ]  Starting iteration 20 of 20 (\u001b[1mbase.py\u001b[0m:368)\n"
     ]
    },
    {
     "name": "stdout",
     "output_type": "stream",
     "text": [
      "[\u001b[1mtardis.simulation.base\u001b[0m][\u001b[1;37mINFO\u001b[0m   ]  Luminosity emitted   = 1.061e+43 erg / s\n",
      "\tLuminosity absorbed  = 3.401e+42 erg / s\n",
      "\tLuminosity requested = 1.059e+43 erg / s\n",
      " (\u001b[1mbase.py\u001b[0m:537)\n"
     ]
    },
    {
     "name": "stdout",
     "output_type": "stream",
     "text": [
      "[\u001b[1mtardis.simulation.base\u001b[0m][\u001b[1;37mINFO\u001b[0m   ]  Simulation finished in 20 iterations Simulation took 46.80 s\n",
      " (\u001b[1mbase.py\u001b[0m:458)\n"
     ]
    }
   ],
   "source": [
    "# Running the simulation from the config\n",
    "\n",
    "sim = run_tardis(config, show_convergence_plots=False, show_progress_bars=False)"
   ]
  },
  {
   "cell_type": "markdown",
   "id": "532bfafc",
   "metadata": {},
   "source": [
    "Now, the `tracked` properties can be accessed via the `rpacket_tracker` attribute of the `sim.runner` object. "
   ]
  },
  {
   "cell_type": "code",
   "execution_count": 8,
   "id": "f8b3424f",
   "metadata": {
    "execution": {
     "iopub.execute_input": "2022-02-04T16:13:13.621041Z",
     "iopub.status.busy": "2022-02-04T16:13:13.620598Z",
     "iopub.status.idle": "2022-02-04T16:13:13.625130Z",
     "shell.execute_reply": "2022-02-04T16:13:13.624760Z"
    }
   },
   "outputs": [
    {
     "data": {
      "text/plain": [
       "numba.typed.typedlist.List"
      ]
     },
     "execution_count": 8,
     "metadata": {},
     "output_type": "execute_result"
    }
   ],
   "source": [
    "type(sim.runner.rpacket_tracker)"
   ]
  },
  {
   "cell_type": "markdown",
   "id": "4771d92a",
   "metadata": {},
   "source": [
    "It can be seen from the above code, that the `sim.runner.rpacket_tracker` is an instance of the `List` specifically *Numba Typed List*. The `RPacketCollection` class has the following structure for the properties : {More information in the **TARDIS API** for `RPacketCollection` class}"
   ]
  },
  {
   "cell_type": "markdown",
   "id": "ce587807",
   "metadata": {},
   "source": [
    "```python\n",
    "# Basic structure for the RPacketCollection Class\n",
    "class RPacketCollection:\n",
    "   # Properties\n",
    "    index\n",
    "    seed\n",
    "    status\n",
    "    r\n",
    "    nu\n",
    "    mu\n",
    "    energy\n",
    "    shell_id\n",
    "```"
   ]
  },
  {
   "cell_type": "code",
   "execution_count": 9,
   "id": "a3ea2f54",
   "metadata": {
    "execution": {
     "iopub.execute_input": "2022-02-04T16:13:13.636772Z",
     "iopub.status.busy": "2022-02-04T16:13:13.636330Z",
     "iopub.status.idle": "2022-02-04T16:13:13.676969Z",
     "shell.execute_reply": "2022-02-04T16:13:13.676598Z"
    }
   },
   "outputs": [
    {
     "data": {
      "text/plain": [
       "100000"
      ]
     },
     "execution_count": 9,
     "metadata": {},
     "output_type": "execute_result"
    }
   ],
   "source": [
    "len(sim.runner.rpacket_tracker)"
   ]
  },
  {
   "cell_type": "markdown",
   "id": "411f2ef9",
   "metadata": {},
   "source": [
    "To access these different properties, we may consider the following examples for the `rpacket_tracker`:\n",
    "<br>In this Example, we are trying to access the properties of the packet at index `10`.<br>In a similar way, we can check for any property for any packet in the range of packets for the last iteration."
   ]
  },
  {
   "cell_type": "markdown",
   "id": "a4772b00",
   "metadata": {},
   "source": [
    "- Accessing the `index` property for the packet {`10`}:"
   ]
  },
  {
   "cell_type": "code",
   "execution_count": 10,
   "id": "de7b8877",
   "metadata": {
    "execution": {
     "iopub.execute_input": "2022-02-04T16:13:13.688237Z",
     "iopub.status.busy": "2022-02-04T16:13:13.686269Z",
     "iopub.status.idle": "2022-02-04T16:13:14.414210Z",
     "shell.execute_reply": "2022-02-04T16:13:14.413772Z"
    }
   },
   "outputs": [
    {
     "data": {
      "text/plain": [
       "10"
      ]
     },
     "execution_count": 10,
     "metadata": {},
     "output_type": "execute_result"
    }
   ],
   "source": [
    "sim.runner.rpacket_tracker[10].index"
   ]
  },
  {
   "cell_type": "markdown",
   "id": "d81fbbf7",
   "metadata": {},
   "source": [
    "- Accessing the `seed` property for the packet {`10`}:"
   ]
  },
  {
   "cell_type": "code",
   "execution_count": 11,
   "id": "39e2dbd2",
   "metadata": {
    "execution": {
     "iopub.execute_input": "2022-02-04T16:13:14.418522Z",
     "iopub.status.busy": "2022-02-04T16:13:14.417983Z",
     "iopub.status.idle": "2022-02-04T16:13:14.422019Z",
     "shell.execute_reply": "2022-02-04T16:13:14.421699Z"
    }
   },
   "outputs": [
    {
     "data": {
      "text/plain": [
       "2729103521"
      ]
     },
     "execution_count": 11,
     "metadata": {},
     "output_type": "execute_result"
    }
   ],
   "source": [
    "sim.runner.rpacket_tracker[10].seed"
   ]
  },
  {
   "cell_type": "markdown",
   "id": "7afe2110",
   "metadata": {},
   "source": [
    "- Accessing the `status` property for the packet {`10`}:"
   ]
  },
  {
   "cell_type": "code",
   "execution_count": 12,
   "id": "e82427ea",
   "metadata": {
    "execution": {
     "iopub.execute_input": "2022-02-04T16:13:14.426006Z",
     "iopub.status.busy": "2022-02-04T16:13:14.425246Z",
     "iopub.status.idle": "2022-02-04T16:13:14.429973Z",
     "shell.execute_reply": "2022-02-04T16:13:14.429579Z"
    }
   },
   "outputs": [
    {
     "data": {
      "text/plain": [
       "array([0, 0, 0, 0, 0, 0, 0, 0, 0, 0, 0, 0, 0, 0, 0, 0, 0, 0, 0, 0, 0, 0,\n",
       "       0, 0, 0, 0, 0, 0, 0, 0, 0, 0, 0, 0, 0, 0, 0, 0, 0, 0, 0, 0, 0, 0,\n",
       "       0, 0, 0, 0, 0, 0, 0, 0, 1])"
      ]
     },
     "execution_count": 12,
     "metadata": {},
     "output_type": "execute_result"
    }
   ],
   "source": [
    "sim.runner.rpacket_tracker[10].status"
   ]
  },
  {
   "cell_type": "markdown",
   "id": "ea308a55",
   "metadata": {},
   "source": [
    "Thus, all other properties {`r`, `nu`, `mu`, `energy`, `shell_id`} can be accessed accordingly."
   ]
  },
  {
   "cell_type": "markdown",
   "id": "c83dd906",
   "metadata": {},
   "source": [
    "We can also see the total number of interactions of index `10` packet under went, with the following example:"
   ]
  },
  {
   "cell_type": "code",
   "execution_count": 13,
   "id": "090b1517",
   "metadata": {
    "execution": {
     "iopub.execute_input": "2022-02-04T16:13:14.433914Z",
     "iopub.status.busy": "2022-02-04T16:13:14.433479Z",
     "iopub.status.idle": "2022-02-04T16:13:14.437969Z",
     "shell.execute_reply": "2022-02-04T16:13:14.437604Z"
    }
   },
   "outputs": [
    {
     "data": {
      "text/plain": [
       "53"
      ]
     },
     "execution_count": 13,
     "metadata": {},
     "output_type": "execute_result"
    }
   ],
   "source": [
    "len(sim.runner.rpacket_tracker[10].shell_id)"
   ]
  },
  {
   "cell_type": "markdown",
   "id": "9136fba1",
   "metadata": {},
   "source": [
    "<div class=\"alert alert-warning\">\n",
    "\n",
    "Warning\n",
    "\n",
    "If we  try to access `sim.runner.rpacket_tracker` property when we have the `track_rpacket` property in the `tracking` subsection of `montecarlo` config, turned off as follows `config[\"montecarlo\"][\"tracking\"][\"track_rpacket\"] = False`, it will return `None`.  Error will be raised if we try to access the properties i.e. `seed`, `index`, etc.\n",
    "</div>"
   ]
  },
  {
   "cell_type": "markdown",
   "id": "afa3c7f4",
   "metadata": {},
   "source": [
    "<div class=\"alert alert-info\">\n",
    "\n",
    "Note\n",
    "    \n",
    "When we initialise the `RPacketCollection()` class, the properties arrays {`index`, `seed`, `status`, etc} are allocated certain length based on the `initial_array_length` parameter that can be set via the `initial_array_length` property under `montecarlo -> tracking` section of the configuration. The default size of the array is `10`. This variable is important as the number of interactions a packet may have is variable, thus we need to allocate space dynamically. This variable is used to compute the size and expand the array such that the properties are able to hold these values for the packet interaction. Higher number, allocates more space initially leading to lesser times the arrays expands and vice versa. It can be set in the following manner `config[\"montecarlo\"][\"tracking\"][\"initial_array_length\"] = {value}`.\n",
    "</div>"
   ]
  }
 ],
 "metadata": {
  "kernelspec": {
   "display_name": "Python 3 (ipykernel)",
   "language": "python",
   "name": "python3"
  },
  "language_info": {
   "codemirror_mode": {
    "name": "ipython",
    "version": 3
   },
   "file_extension": ".py",
   "mimetype": "text/x-python",
   "name": "python",
   "nbconvert_exporter": "python",
   "pygments_lexer": "ipython3",
   "version": "3.7.12"
  },
  "widgets": {
   "application/vnd.jupyter.widget-state+json": {
    "state": {
     "03ea859e69f947fd9739ad18c476b005": {
      "model_module": "@jupyter-widgets/controls",
      "model_module_version": "1.5.0",
      "model_name": "HTMLModel",
      "state": {
       "_dom_classes": [],
       "_model_module": "@jupyter-widgets/controls",
       "_model_module_version": "1.5.0",
       "_model_name": "HTMLModel",
       "_view_count": null,
       "_view_module": "@jupyter-widgets/controls",
       "_view_module_version": "1.5.0",
       "_view_name": "HTMLView",
       "description": "",
       "description_tooltip": null,
       "layout": "IPY_MODEL_a98a06e088114db3bca7645886c88325",
       "placeholder": "​",
       "style": "IPY_MODEL_62b2434d76954616ba4db7d8cb7a44c8",
       "value": "Iterations:"
      }
     },
     "0559fc10bba746a0b3606bc3b5c89f45": {
      "model_module": "@jupyter-widgets/base",
      "model_module_version": "1.2.0",
      "model_name": "LayoutModel",
      "state": {
       "_model_module": "@jupyter-widgets/base",
       "_model_module_version": "1.2.0",
       "_model_name": "LayoutModel",
       "_view_count": null,
       "_view_module": "@jupyter-widgets/base",
       "_view_module_version": "1.2.0",
       "_view_name": "LayoutView",
       "align_content": null,
       "align_items": null,
       "align_self": null,
       "border": null,
       "bottom": null,
       "display": null,
       "flex": null,
       "flex_flow": null,
       "grid_area": null,
       "grid_auto_columns": null,
       "grid_auto_flow": null,
       "grid_auto_rows": null,
       "grid_column": null,
       "grid_gap": null,
       "grid_row": null,
       "grid_template_areas": null,
       "grid_template_columns": null,
       "grid_template_rows": null,
       "height": null,
       "justify_content": null,
       "justify_items": null,
       "left": null,
       "margin": null,
       "max_height": null,
       "max_width": null,
       "min_height": null,
       "min_width": null,
       "object_fit": null,
       "object_position": null,
       "order": null,
       "overflow": null,
       "overflow_x": null,
       "overflow_y": null,
       "padding": null,
       "right": null,
       "top": null,
       "visibility": null,
       "width": null
      }
     },
     "18779db8c33e43e09a724bb3056ed872": {
      "model_module": "@jupyter-widgets/base",
      "model_module_version": "1.2.0",
      "model_name": "LayoutModel",
      "state": {
       "_model_module": "@jupyter-widgets/base",
       "_model_module_version": "1.2.0",
       "_model_name": "LayoutModel",
       "_view_count": null,
       "_view_module": "@jupyter-widgets/base",
       "_view_module_version": "1.2.0",
       "_view_name": "LayoutView",
       "align_content": null,
       "align_items": null,
       "align_self": null,
       "border": null,
       "bottom": null,
       "display": null,
       "flex": null,
       "flex_flow": null,
       "grid_area": null,
       "grid_auto_columns": null,
       "grid_auto_flow": null,
       "grid_auto_rows": null,
       "grid_column": null,
       "grid_gap": null,
       "grid_row": null,
       "grid_template_areas": null,
       "grid_template_columns": null,
       "grid_template_rows": null,
       "height": null,
       "justify_content": null,
       "justify_items": null,
       "left": null,
       "margin": null,
       "max_height": null,
       "max_width": null,
       "min_height": null,
       "min_width": null,
       "object_fit": null,
       "object_position": null,
       "order": null,
       "overflow": null,
       "overflow_x": null,
       "overflow_y": null,
       "padding": null,
       "right": null,
       "top": null,
       "visibility": null,
       "width": "20px"
      }
     },
     "2a11181ad0a24ae2b56208c5ebfd4c5c": {
      "model_module": "@jupyter-widgets/base",
      "model_module_version": "1.2.0",
      "model_name": "LayoutModel",
      "state": {
       "_model_module": "@jupyter-widgets/base",
       "_model_module_version": "1.2.0",
       "_model_name": "LayoutModel",
       "_view_count": null,
       "_view_module": "@jupyter-widgets/base",
       "_view_module_version": "1.2.0",
       "_view_name": "LayoutView",
       "align_content": null,
       "align_items": null,
       "align_self": null,
       "border": null,
       "bottom": null,
       "display": null,
       "flex": null,
       "flex_flow": null,
       "grid_area": null,
       "grid_auto_columns": null,
       "grid_auto_flow": null,
       "grid_auto_rows": null,
       "grid_column": null,
       "grid_gap": null,
       "grid_row": null,
       "grid_template_areas": null,
       "grid_template_columns": null,
       "grid_template_rows": null,
       "height": null,
       "justify_content": null,
       "justify_items": null,
       "left": null,
       "margin": null,
       "max_height": null,
       "max_width": null,
       "min_height": null,
       "min_width": null,
       "object_fit": null,
       "object_position": null,
       "order": null,
       "overflow": null,
       "overflow_x": null,
       "overflow_y": null,
       "padding": null,
       "right": null,
       "top": null,
       "visibility": null,
       "width": null
      }
     },
     "372c83dbc4c14633ac7de7bd62898a2f": {
      "model_module": "@jupyter-widgets/controls",
      "model_module_version": "1.5.0",
      "model_name": "HTMLModel",
      "state": {
       "_dom_classes": [],
       "_model_module": "@jupyter-widgets/controls",
       "_model_module_version": "1.5.0",
       "_model_name": "HTMLModel",
       "_view_count": null,
       "_view_module": "@jupyter-widgets/controls",
       "_view_module_version": "1.5.0",
       "_view_name": "HTMLView",
       "description": "",
       "description_tooltip": null,
       "layout": "IPY_MODEL_2a11181ad0a24ae2b56208c5ebfd4c5c",
       "placeholder": "​",
       "style": "IPY_MODEL_4860774ea98a4aea8092117a51638520",
       "value": "Packets:   "
      }
     },
     "386ed00d3f604aadbae84d7039cd0aba": {
      "model_module": "@jupyter-widgets/controls",
      "model_module_version": "1.5.0",
      "model_name": "HTMLModel",
      "state": {
       "_dom_classes": [],
       "_model_module": "@jupyter-widgets/controls",
       "_model_module_version": "1.5.0",
       "_model_name": "HTMLModel",
       "_view_count": null,
       "_view_module": "@jupyter-widgets/controls",
       "_view_module_version": "1.5.0",
       "_view_name": "HTMLView",
       "description": "",
       "description_tooltip": null,
       "layout": "IPY_MODEL_a386557751154bc4861c827233857616",
       "placeholder": "​",
       "style": "IPY_MODEL_6724d63dbf7a41b1abe6574f5822c7a3",
       "value": "0/? [00:00&lt;?, ?it/s]"
      }
     },
     "39c6917107a44843b76209e2ed669381": {
      "model_module": "@jupyter-widgets/controls",
      "model_module_version": "1.5.0",
      "model_name": "ProgressStyleModel",
      "state": {
       "_model_module": "@jupyter-widgets/controls",
       "_model_module_version": "1.5.0",
       "_model_name": "ProgressStyleModel",
       "_view_count": null,
       "_view_module": "@jupyter-widgets/base",
       "_view_module_version": "1.2.0",
       "_view_name": "StyleView",
       "bar_color": null,
       "description_width": ""
      }
     },
     "4860774ea98a4aea8092117a51638520": {
      "model_module": "@jupyter-widgets/controls",
      "model_module_version": "1.5.0",
      "model_name": "DescriptionStyleModel",
      "state": {
       "_model_module": "@jupyter-widgets/controls",
       "_model_module_version": "1.5.0",
       "_model_name": "DescriptionStyleModel",
       "_view_count": null,
       "_view_module": "@jupyter-widgets/base",
       "_view_module_version": "1.2.0",
       "_view_name": "StyleView",
       "description_width": ""
      }
     },
     "491b68e08f4f4a00bea5dbb3effde0de": {
      "model_module": "@jupyter-widgets/base",
      "model_module_version": "1.2.0",
      "model_name": "LayoutModel",
      "state": {
       "_model_module": "@jupyter-widgets/base",
       "_model_module_version": "1.2.0",
       "_model_name": "LayoutModel",
       "_view_count": null,
       "_view_module": "@jupyter-widgets/base",
       "_view_module_version": "1.2.0",
       "_view_name": "LayoutView",
       "align_content": null,
       "align_items": null,
       "align_self": null,
       "border": null,
       "bottom": null,
       "display": null,
       "flex": null,
       "flex_flow": null,
       "grid_area": null,
       "grid_auto_columns": null,
       "grid_auto_flow": null,
       "grid_auto_rows": null,
       "grid_column": null,
       "grid_gap": null,
       "grid_row": null,
       "grid_template_areas": null,
       "grid_template_columns": null,
       "grid_template_rows": null,
       "height": null,
       "justify_content": null,
       "justify_items": null,
       "left": null,
       "margin": null,
       "max_height": null,
       "max_width": null,
       "min_height": null,
       "min_width": null,
       "object_fit": null,
       "object_position": null,
       "order": null,
       "overflow": null,
       "overflow_x": null,
       "overflow_y": null,
       "padding": null,
       "right": null,
       "top": null,
       "visibility": null,
       "width": "20px"
      }
     },
     "4d46af0b5e6f4b898a2827679f1bdb57": {
      "model_module": "@jupyter-widgets/base",
      "model_module_version": "1.2.0",
      "model_name": "LayoutModel",
      "state": {
       "_model_module": "@jupyter-widgets/base",
       "_model_module_version": "1.2.0",
       "_model_name": "LayoutModel",
       "_view_count": null,
       "_view_module": "@jupyter-widgets/base",
       "_view_module_version": "1.2.0",
       "_view_name": "LayoutView",
       "align_content": null,
       "align_items": null,
       "align_self": null,
       "border": null,
       "bottom": null,
       "display": null,
       "flex": null,
       "flex_flow": null,
       "grid_area": null,
       "grid_auto_columns": null,
       "grid_auto_flow": null,
       "grid_auto_rows": null,
       "grid_column": null,
       "grid_gap": null,
       "grid_row": null,
       "grid_template_areas": null,
       "grid_template_columns": null,
       "grid_template_rows": null,
       "height": null,
       "justify_content": null,
       "justify_items": null,
       "left": null,
       "margin": null,
       "max_height": null,
       "max_width": null,
       "min_height": null,
       "min_width": null,
       "object_fit": null,
       "object_position": null,
       "order": null,
       "overflow": null,
       "overflow_x": null,
       "overflow_y": null,
       "padding": null,
       "right": null,
       "top": null,
       "visibility": null,
       "width": null
      }
     },
     "5abbe6e324d043f2a92ceb10ffd70ea4": {
      "model_module": "@jupyter-widgets/controls",
      "model_module_version": "1.5.0",
      "model_name": "FloatProgressModel",
      "state": {
       "_dom_classes": [],
       "_model_module": "@jupyter-widgets/controls",
       "_model_module_version": "1.5.0",
       "_model_name": "FloatProgressModel",
       "_view_count": null,
       "_view_module": "@jupyter-widgets/controls",
       "_view_module_version": "1.5.0",
       "_view_name": "ProgressView",
       "bar_style": "info",
       "description": "",
       "description_tooltip": null,
       "layout": "IPY_MODEL_491b68e08f4f4a00bea5dbb3effde0de",
       "max": 1.0,
       "min": 0.0,
       "orientation": "horizontal",
       "style": "IPY_MODEL_ff0fae267acf4a9dbd0b5f1fe3f47dd4",
       "value": 0.0
      }
     },
     "6093c175da7446b6ab8b2e71e609fc81": {
      "model_module": "@jupyter-widgets/base",
      "model_module_version": "1.2.0",
      "model_name": "LayoutModel",
      "state": {
       "_model_module": "@jupyter-widgets/base",
       "_model_module_version": "1.2.0",
       "_model_name": "LayoutModel",
       "_view_count": null,
       "_view_module": "@jupyter-widgets/base",
       "_view_module_version": "1.2.0",
       "_view_name": "LayoutView",
       "align_content": null,
       "align_items": null,
       "align_self": null,
       "border": null,
       "bottom": null,
       "display": null,
       "flex": null,
       "flex_flow": null,
       "grid_area": null,
       "grid_auto_columns": null,
       "grid_auto_flow": null,
       "grid_auto_rows": null,
       "grid_column": null,
       "grid_gap": null,
       "grid_row": null,
       "grid_template_areas": null,
       "grid_template_columns": null,
       "grid_template_rows": null,
       "height": null,
       "justify_content": null,
       "justify_items": null,
       "left": null,
       "margin": null,
       "max_height": null,
       "max_width": null,
       "min_height": null,
       "min_width": null,
       "object_fit": null,
       "object_position": null,
       "order": null,
       "overflow": null,
       "overflow_x": null,
       "overflow_y": null,
       "padding": null,
       "right": null,
       "top": null,
       "visibility": null,
       "width": null
      }
     },
     "62b2434d76954616ba4db7d8cb7a44c8": {
      "model_module": "@jupyter-widgets/controls",
      "model_module_version": "1.5.0",
      "model_name": "DescriptionStyleModel",
      "state": {
       "_model_module": "@jupyter-widgets/controls",
       "_model_module_version": "1.5.0",
       "_model_name": "DescriptionStyleModel",
       "_view_count": null,
       "_view_module": "@jupyter-widgets/base",
       "_view_module_version": "1.2.0",
       "_view_name": "StyleView",
       "description_width": ""
      }
     },
     "6724d63dbf7a41b1abe6574f5822c7a3": {
      "model_module": "@jupyter-widgets/controls",
      "model_module_version": "1.5.0",
      "model_name": "DescriptionStyleModel",
      "state": {
       "_model_module": "@jupyter-widgets/controls",
       "_model_module_version": "1.5.0",
       "_model_name": "DescriptionStyleModel",
       "_view_count": null,
       "_view_module": "@jupyter-widgets/base",
       "_view_module_version": "1.2.0",
       "_view_name": "StyleView",
       "description_width": ""
      }
     },
     "9dd10b7a84ec4facb4ed41275d3cff10": {
      "model_module": "@jupyter-widgets/output",
      "model_module_version": "1.0.0",
      "model_name": "OutputModel",
      "state": {
       "_dom_classes": [],
       "_model_module": "@jupyter-widgets/output",
       "_model_module_version": "1.0.0",
       "_model_name": "OutputModel",
       "_view_count": null,
       "_view_module": "@jupyter-widgets/output",
       "_view_module_version": "1.0.0",
       "_view_name": "OutputView",
       "layout": "IPY_MODEL_eff49c0b58bf4e55829bd903c4e0ceec",
       "msg_id": "",
       "outputs": []
      }
     },
     "a386557751154bc4861c827233857616": {
      "model_module": "@jupyter-widgets/base",
      "model_module_version": "1.2.0",
      "model_name": "LayoutModel",
      "state": {
       "_model_module": "@jupyter-widgets/base",
       "_model_module_version": "1.2.0",
       "_model_name": "LayoutModel",
       "_view_count": null,
       "_view_module": "@jupyter-widgets/base",
       "_view_module_version": "1.2.0",
       "_view_name": "LayoutView",
       "align_content": null,
       "align_items": null,
       "align_self": null,
       "border": null,
       "bottom": null,
       "display": null,
       "flex": null,
       "flex_flow": null,
       "grid_area": null,
       "grid_auto_columns": null,
       "grid_auto_flow": null,
       "grid_auto_rows": null,
       "grid_column": null,
       "grid_gap": null,
       "grid_row": null,
       "grid_template_areas": null,
       "grid_template_columns": null,
       "grid_template_rows": null,
       "height": null,
       "justify_content": null,
       "justify_items": null,
       "left": null,
       "margin": null,
       "max_height": null,
       "max_width": null,
       "min_height": null,
       "min_width": null,
       "object_fit": null,
       "object_position": null,
       "order": null,
       "overflow": null,
       "overflow_x": null,
       "overflow_y": null,
       "padding": null,
       "right": null,
       "top": null,
       "visibility": null,
       "width": null
      }
     },
     "a98a06e088114db3bca7645886c88325": {
      "model_module": "@jupyter-widgets/base",
      "model_module_version": "1.2.0",
      "model_name": "LayoutModel",
      "state": {
       "_model_module": "@jupyter-widgets/base",
       "_model_module_version": "1.2.0",
       "_model_name": "LayoutModel",
       "_view_count": null,
       "_view_module": "@jupyter-widgets/base",
       "_view_module_version": "1.2.0",
       "_view_name": "LayoutView",
       "align_content": null,
       "align_items": null,
       "align_self": null,
       "border": null,
       "bottom": null,
       "display": null,
       "flex": null,
       "flex_flow": null,
       "grid_area": null,
       "grid_auto_columns": null,
       "grid_auto_flow": null,
       "grid_auto_rows": null,
       "grid_column": null,
       "grid_gap": null,
       "grid_row": null,
       "grid_template_areas": null,
       "grid_template_columns": null,
       "grid_template_rows": null,
       "height": null,
       "justify_content": null,
       "justify_items": null,
       "left": null,
       "margin": null,
       "max_height": null,
       "max_width": null,
       "min_height": null,
       "min_width": null,
       "object_fit": null,
       "object_position": null,
       "order": null,
       "overflow": null,
       "overflow_x": null,
       "overflow_y": null,
       "padding": null,
       "right": null,
       "top": null,
       "visibility": null,
       "width": null
      }
     },
     "ad98d1935a3b4a7fbe745a5238f5aa08": {
      "model_module": "@jupyter-widgets/controls",
      "model_module_version": "1.5.0",
      "model_name": "HTMLModel",
      "state": {
       "_dom_classes": [],
       "_model_module": "@jupyter-widgets/controls",
       "_model_module_version": "1.5.0",
       "_model_name": "HTMLModel",
       "_view_count": null,
       "_view_module": "@jupyter-widgets/controls",
       "_view_module_version": "1.5.0",
       "_view_name": "HTMLView",
       "description": "",
       "description_tooltip": null,
       "layout": "IPY_MODEL_0559fc10bba746a0b3606bc3b5c89f45",
       "placeholder": "​",
       "style": "IPY_MODEL_f8ba333396e04208b30dcd895a2da544",
       "value": "20/? [00:51&lt;00:00,  4.07s/it]"
      }
     },
     "be0af65d3438489680b7e5c0cef94a04": {
      "model_module": "@jupyter-widgets/base",
      "model_module_version": "1.2.0",
      "model_name": "LayoutModel",
      "state": {
       "_model_module": "@jupyter-widgets/base",
       "_model_module_version": "1.2.0",
       "_model_name": "LayoutModel",
       "_view_count": null,
       "_view_module": "@jupyter-widgets/base",
       "_view_module_version": "1.2.0",
       "_view_name": "LayoutView",
       "align_content": null,
       "align_items": null,
       "align_self": null,
       "border": null,
       "bottom": null,
       "display": null,
       "flex": null,
       "flex_flow": null,
       "grid_area": null,
       "grid_auto_columns": null,
       "grid_auto_flow": null,
       "grid_auto_rows": null,
       "grid_column": null,
       "grid_gap": null,
       "grid_row": null,
       "grid_template_areas": null,
       "grid_template_columns": null,
       "grid_template_rows": null,
       "height": null,
       "justify_content": null,
       "justify_items": null,
       "left": null,
       "margin": null,
       "max_height": null,
       "max_width": null,
       "min_height": null,
       "min_width": null,
       "object_fit": null,
       "object_position": null,
       "order": null,
       "overflow": null,
       "overflow_x": null,
       "overflow_y": null,
       "padding": null,
       "right": null,
       "top": null,
       "visibility": null,
       "width": null
      }
     },
     "c9a6656add104321baa0206dceb6f0b4": {
      "model_module": "@jupyter-widgets/controls",
      "model_module_version": "1.5.0",
      "model_name": "FloatProgressModel",
      "state": {
       "_dom_classes": [],
       "_model_module": "@jupyter-widgets/controls",
       "_model_module_version": "1.5.0",
       "_model_name": "FloatProgressModel",
       "_view_count": null,
       "_view_module": "@jupyter-widgets/controls",
       "_view_module_version": "1.5.0",
       "_view_name": "ProgressView",
       "bar_style": "info",
       "description": "",
       "description_tooltip": null,
       "layout": "IPY_MODEL_18779db8c33e43e09a724bb3056ed872",
       "max": 1.0,
       "min": 0.0,
       "orientation": "horizontal",
       "style": "IPY_MODEL_39c6917107a44843b76209e2ed669381",
       "value": 1.0
      }
     },
     "d2cf4a2790224628857286bc3a028705": {
      "model_module": "@jupyter-widgets/controls",
      "model_module_version": "1.5.0",
      "model_name": "HBoxModel",
      "state": {
       "_dom_classes": [],
       "_model_module": "@jupyter-widgets/controls",
       "_model_module_version": "1.5.0",
       "_model_name": "HBoxModel",
       "_view_count": null,
       "_view_module": "@jupyter-widgets/controls",
       "_view_module_version": "1.5.0",
       "_view_name": "HBoxView",
       "box_style": "",
       "children": [
        "IPY_MODEL_372c83dbc4c14633ac7de7bd62898a2f",
        "IPY_MODEL_5abbe6e324d043f2a92ceb10ffd70ea4",
        "IPY_MODEL_386ed00d3f604aadbae84d7039cd0aba"
       ],
       "layout": "IPY_MODEL_6093c175da7446b6ab8b2e71e609fc81"
      }
     },
     "dcd1794c24ea446cacf934c7c2beea4f": {
      "model_module": "@jupyter-widgets/controls",
      "model_module_version": "1.5.0",
      "model_name": "HBoxModel",
      "state": {
       "_dom_classes": [],
       "_model_module": "@jupyter-widgets/controls",
       "_model_module_version": "1.5.0",
       "_model_name": "HBoxModel",
       "_view_count": null,
       "_view_module": "@jupyter-widgets/controls",
       "_view_module_version": "1.5.0",
       "_view_name": "HBoxView",
       "box_style": "",
       "children": [
        "IPY_MODEL_03ea859e69f947fd9739ad18c476b005",
        "IPY_MODEL_c9a6656add104321baa0206dceb6f0b4",
        "IPY_MODEL_ad98d1935a3b4a7fbe745a5238f5aa08"
       ],
       "layout": "IPY_MODEL_4d46af0b5e6f4b898a2827679f1bdb57"
      }
     },
     "e9a304c1c72a4f96b0a2d7d87a904c05": {
      "model_module": "@jupyter-widgets/output",
      "model_module_version": "1.0.0",
      "model_name": "OutputModel",
      "state": {
       "_dom_classes": [],
       "_model_module": "@jupyter-widgets/output",
       "_model_module_version": "1.0.0",
       "_model_name": "OutputModel",
       "_view_count": null,
       "_view_module": "@jupyter-widgets/output",
       "_view_module_version": "1.0.0",
       "_view_name": "OutputView",
       "layout": "IPY_MODEL_be0af65d3438489680b7e5c0cef94a04",
       "msg_id": "",
       "outputs": []
      }
     },
     "eff49c0b58bf4e55829bd903c4e0ceec": {
      "model_module": "@jupyter-widgets/base",
      "model_module_version": "1.2.0",
      "model_name": "LayoutModel",
      "state": {
       "_model_module": "@jupyter-widgets/base",
       "_model_module_version": "1.2.0",
       "_model_name": "LayoutModel",
       "_view_count": null,
       "_view_module": "@jupyter-widgets/base",
       "_view_module_version": "1.2.0",
       "_view_name": "LayoutView",
       "align_content": null,
       "align_items": null,
       "align_self": null,
       "border": null,
       "bottom": null,
       "display": null,
       "flex": null,
       "flex_flow": null,
       "grid_area": null,
       "grid_auto_columns": null,
       "grid_auto_flow": null,
       "grid_auto_rows": null,
       "grid_column": null,
       "grid_gap": null,
       "grid_row": null,
       "grid_template_areas": null,
       "grid_template_columns": null,
       "grid_template_rows": null,
       "height": null,
       "justify_content": null,
       "justify_items": null,
       "left": null,
       "margin": null,
       "max_height": null,
       "max_width": null,
       "min_height": null,
       "min_width": null,
       "object_fit": null,
       "object_position": null,
       "order": null,
       "overflow": null,
       "overflow_x": null,
       "overflow_y": null,
       "padding": null,
       "right": null,
       "top": null,
       "visibility": null,
       "width": null
      }
     },
     "f8ba333396e04208b30dcd895a2da544": {
      "model_module": "@jupyter-widgets/controls",
      "model_module_version": "1.5.0",
      "model_name": "DescriptionStyleModel",
      "state": {
       "_model_module": "@jupyter-widgets/controls",
       "_model_module_version": "1.5.0",
       "_model_name": "DescriptionStyleModel",
       "_view_count": null,
       "_view_module": "@jupyter-widgets/base",
       "_view_module_version": "1.2.0",
       "_view_name": "StyleView",
       "description_width": ""
      }
     },
     "ff0fae267acf4a9dbd0b5f1fe3f47dd4": {
      "model_module": "@jupyter-widgets/controls",
      "model_module_version": "1.5.0",
      "model_name": "ProgressStyleModel",
      "state": {
       "_model_module": "@jupyter-widgets/controls",
       "_model_module_version": "1.5.0",
       "_model_name": "ProgressStyleModel",
       "_view_count": null,
       "_view_module": "@jupyter-widgets/base",
       "_view_module_version": "1.2.0",
       "_view_name": "StyleView",
       "bar_color": null,
       "description_width": ""
      }
     }
    },
    "version_major": 2,
    "version_minor": 0
   }
  }
 },
 "nbformat": 4,
 "nbformat_minor": 5
}
